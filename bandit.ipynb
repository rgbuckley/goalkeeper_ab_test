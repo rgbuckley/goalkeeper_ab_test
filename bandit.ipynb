{
 "cells": [
  {
   "cell_type": "markdown",
   "metadata": {
    "application/vnd.databricks.v1+cell": {
     "cellMetadata": {},
     "inputWidgets": {},
     "nuid": "1937ce90-6418-4bda-bed9-4ff4292c7b12",
     "showTitle": false,
     "title": ""
    }
   },
   "source": [
    "#Introduction"
   ]
  },
  {
   "cell_type": "markdown",
   "metadata": {
    "application/vnd.databricks.v1+cell": {
     "cellMetadata": {},
     "inputWidgets": {},
     "nuid": "30845876-12b9-4fdb-8923-d50bf5bea7ba",
     "showTitle": false,
     "title": ""
    }
   },
   "source": [
    "Penalty kick shootouts are a key part of tournament soccer. If the match is tied after regulation and/or overtime, a shootout determines the winner. Goalkeepers are crucial in these moments. A goalkeeper who is able to save multiple shots greatly increases his or her team's chance of winning. "
   ]
  },
  {
   "cell_type": "markdown",
   "metadata": {
    "application/vnd.databricks.v1+cell": {
     "cellMetadata": {},
     "inputWidgets": {},
     "nuid": "f413d489-e2e2-4311-8aaf-e5f9c680665b",
     "showTitle": false,
     "title": ""
    }
   },
   "source": [
    "Managers face a tough decision when going into a shootout. Most teams have two or three goalkeepers on the roster, and the starting goalkeeper might not be the best for the specialized skill of blocking shots in a shootout. Several managers will substitute the goalkeeper right before the shootout so the goalkeeper with the highest *save rate* will participate in the shootout. "
   ]
  },
  {
   "cell_type": "markdown",
   "metadata": {
    "application/vnd.databricks.v1+cell": {
     "cellMetadata": {},
     "inputWidgets": {},
     "nuid": "4415dfc0-cce0-4338-bb65-e9581ecb1e59",
     "showTitle": false,
     "title": ""
    }
   },
   "source": [
    "But how does a manager determine which goalkeeper has the highest *save rate*? This project explores this question."
   ]
  },
  {
   "cell_type": "markdown",
   "metadata": {
    "application/vnd.databricks.v1+cell": {
     "cellMetadata": {},
     "inputWidgets": {},
     "nuid": "6ff1c5bb-0d4f-4e5f-a1e5-ac559776fefa",
     "showTitle": false,
     "title": ""
    }
   },
   "source": [
    "## Notes and Caveats"
   ]
  },
  {
   "cell_type": "markdown",
   "metadata": {
    "application/vnd.databricks.v1+cell": {
     "cellMetadata": {},
     "inputWidgets": {},
     "nuid": "241a4b27-5a33-4863-92dc-bc4bf994feff",
     "showTitle": false,
     "title": ""
    }
   },
   "source": [
    "### Assumptions"
   ]
  },
  {
   "cell_type": "markdown",
   "metadata": {
    "application/vnd.databricks.v1+cell": {
     "cellMetadata": {},
     "inputWidgets": {},
     "nuid": "a0e1215b-b4e0-4b03-b85d-a82969eabd63",
     "showTitle": false,
     "title": ""
    }
   },
   "source": [
    "For simplicity throughout the exercise, we will assume that each goalkeeper has an inherent *true save rate*. This does not change over time or with practice. Whether the goalkeeper saves a given shot is a random variable. The goalkeeper saves the shot with probability *true save rate* or the shot is scored."
   ]
  },
  {
   "cell_type": "markdown",
   "metadata": {
    "application/vnd.databricks.v1+cell": {
     "cellMetadata": {},
     "inputWidgets": {},
     "nuid": "1bce1552-6632-4c8e-8e91-cf7b7cb46cac",
     "showTitle": false,
     "title": ""
    }
   },
   "source": [
    "### Other Applications"
   ]
  },
  {
   "cell_type": "markdown",
   "metadata": {
    "application/vnd.databricks.v1+cell": {
     "cellMetadata": {},
     "inputWidgets": {},
     "nuid": "e2b5c03a-d80c-4e38-8b91-95e3379b9874",
     "showTitle": false,
     "title": ""
    }
   },
   "source": [
    "The rest of this notebook will explore how a coach might use data to determine which goalkeeper on her roster has the highest save rate. The applications for this kind of algorithm, however, are much broader than sports. Similar approaches could be used for:\n",
    "- a marketing analyst determining which ad has the highest click-through rate\n",
    "- a drug manufacturer determining which drug is most effective\n",
    "- a manager determining which price is most likely to convince a customer to buy a product"
   ]
  },
  {
   "cell_type": "markdown",
   "metadata": {
    "application/vnd.databricks.v1+cell": {
     "cellMetadata": {},
     "inputWidgets": {},
     "nuid": "9d648624-4ae1-4aeb-acdd-3719f571bcc9",
     "showTitle": false,
     "title": ""
    }
   },
   "source": [
    "### Attribution"
   ]
  },
  {
   "cell_type": "markdown",
   "metadata": {
    "application/vnd.databricks.v1+cell": {
     "cellMetadata": {},
     "inputWidgets": {},
     "nuid": "74cfdf81-9d13-41ac-9eba-21930a540e4d",
     "showTitle": false,
     "title": ""
    }
   },
   "source": [
    "For much of what I learned I am indebted to [The Lazy Programmer](https://swirecc.udemy.com/user/lazy-programmer/) who has a fantastic course on Udemy on this topic. \n",
    "\n",
    "If you are interested in learning more about A/B Testing, I highly recommend the [course](https://swirecc.udemy.com/course/bayesian-machine-learning-in-python-ab-testing/). \n",
    "\n"
   ]
  },
  {
   "cell_type": "markdown",
   "metadata": {
    "application/vnd.databricks.v1+cell": {
     "cellMetadata": {},
     "inputWidgets": {},
     "nuid": "4dcdbc70-8c52-43f6-984f-32b5cd256316",
     "showTitle": false,
     "title": ""
    }
   },
   "source": [
    "# Approach 1: Classical A/B Testing"
   ]
  },
  {
   "cell_type": "markdown",
   "metadata": {
    "application/vnd.databricks.v1+cell": {
     "cellMetadata": {},
     "inputWidgets": {},
     "nuid": "60eb7be8-e9da-45a7-b413-0a6b69881b69",
     "showTitle": false,
     "title": ""
    }
   },
   "source": [
    "Let's start with the *Classical* approach from statistics (this is also the *frequentist method*)  "
   ]
  },
  {
   "cell_type": "markdown",
   "metadata": {
    "application/vnd.databricks.v1+cell": {
     "cellMetadata": {},
     "inputWidgets": {},
     "nuid": "1349227f-71a7-40af-ae36-21e9e7aa70fd",
     "showTitle": false,
     "title": ""
    }
   },
   "source": [
    "The coach has two goalkeepers on her roster: Buffon and Casillas. She wants to know which goalkeeper has a higher *save rate*. The coach plans an experiment.\n",
    "\n",
    "> During training sessions, each goalkeeper will face a number of penalty kick shots from several different shooters. The coach will record whether each shot is saved and use this data to determine which goalkeeper has the higher save rate or if they are the same."
   ]
  },
  {
   "cell_type": "markdown",
   "metadata": {
    "application/vnd.databricks.v1+cell": {
     "cellMetadata": {},
     "inputWidgets": {},
     "nuid": "92eebfdb-178d-4a04-8876-c27c628291c0",
     "showTitle": false,
     "title": ""
    }
   },
   "source": [
    "*How many shots should each goalkeeper face during the experiment?*\n",
    "\n",
    "The coach knows that the average save rate among all goalkeepers is about [25%](https://theanalyst.com/2024/05/premier-league-penalties-like-free-goal). She reasons that it is important to be able to detect a difference of 5% or greater between the true save rates of each goalkeeper. \n",
    "\n",
    "To decide how many shots each goalkeeper should face, the coach googles around online and lands on this [calculator](https://www2.ccrb.cuhk.edu.hk/stat/proportion/Casagrande.htm) from the center for clinical research and biostats. "
   ]
  },
  {
   "cell_type": "code",
   "execution_count": 0,
   "metadata": {
    "application/vnd.databricks.v1+cell": {
     "cellMetadata": {
      "byteLimit": 2048000,
      "rowLimit": 10000
     },
     "inputWidgets": {},
     "nuid": "638caf6e-3164-4f67-b1bb-3b2601f4a74a",
     "showTitle": false,
     "title": ""
    }
   },
   "outputs": [],
   "source": [
    "gk1 = 0.25\n",
    "gk2 = 0.3 #the minimum difference the coach wants to detect\n",
    "\n",
    "r=1 #each goalkeeper should face the same number of shots\n",
    "alpha = 0.25 #type I error, rejecting true null. Coach is not too concerned if she thinks a goalkeeper is better when they are actually the same. The cost is using an unnecessary substitute, which is not as critical as the other error... \n",
    "beta = 0.01 #type II error, failing to reject false null. Coach really wants to make sure she knows the difference if there is one\n",
    "power = 1 - beta "
   ]
  },
  {
   "cell_type": "markdown",
   "metadata": {
    "application/vnd.databricks.v1+cell": {
     "cellMetadata": {},
     "inputWidgets": {},
     "nuid": "aafec2ef-e4b7-4fb4-b46d-09dd061ca348",
     "showTitle": false,
     "title": ""
    }
   },
   "source": [
    "The coach puts the values into the calculator and..."
   ]
  },
  {
   "cell_type": "markdown",
   "metadata": {
    "application/vnd.databricks.v1+cell": {
     "cellMetadata": {},
     "inputWidgets": {},
     "nuid": "cc3b4a09-7a34-4dae-a1af-e40bf3f1803e",
     "showTitle": false,
     "title": ""
    }
   },
   "source": [
    "![picture of sample calculator](pics/sample_calc.png)"
   ]
  },
  {
   "cell_type": "markdown",
   "metadata": {
    "application/vnd.databricks.v1+cell": {
     "cellMetadata": {},
     "inputWidgets": {},
     "nuid": "1a83cc56-8048-4ed2-a320-097e5da2f45e",
     "showTitle": false,
     "title": ""
    }
   },
   "source": [
    "Each goalkeeper needs to face 1964 shots to ensure we pick up the difference!!!"
   ]
  },
  {
   "cell_type": "markdown",
   "metadata": {
    "application/vnd.databricks.v1+cell": {
     "cellMetadata": {},
     "inputWidgets": {},
     "nuid": "0ac90c1e-af01-4f34-b5fe-84a8dfb2c624",
     "showTitle": false,
     "title": ""
    }
   },
   "source": [
    "## Simulation"
   ]
  },
  {
   "cell_type": "markdown",
   "metadata": {
    "application/vnd.databricks.v1+cell": {
     "cellMetadata": {},
     "inputWidgets": {},
     "nuid": "953bb14c-f7d3-42fc-b19c-a867958c7cbe",
     "showTitle": false,
     "title": ""
    }
   },
   "source": [
    "Let's take a brief pause from the story and simulate what this would look like."
   ]
  },
  {
   "cell_type": "code",
   "execution_count": 0,
   "metadata": {
    "application/vnd.databricks.v1+cell": {
     "cellMetadata": {
      "byteLimit": 2048000,
      "rowLimit": 10000
     },
     "inputWidgets": {},
     "nuid": "acd0a033-43fd-4764-b2db-186eb12405bd",
     "showTitle": false,
     "title": ""
    }
   },
   "outputs": [],
   "source": [
    "#set up the experiment\n",
    "import numpy as np\n",
    "from scipy.stats import ttest_ind\n",
    "\n",
    "def t_experiment(p1_name, p1, p2_name, p2, n, seed):\n",
    "    np.random.seed(seed)  # Set the seed for reproducibility\n",
    "\n",
    "    #simulate each goalkeeper facing n shots. 1 is a save, 0 is a goal\n",
    "    p1_results = np.random.choice([1, 0], size=n, p=[p1, 1-p1])\n",
    "    p2_results = np.random.choice([1, 0], size=n, p=[p2, 1-p2])\n",
    "\n",
    "    # Perform a 2-sided test\n",
    "    t_stat, p_value = ttest_ind(p1_results, p2_results, alternative='two-sided')\n",
    "\n",
    "    #interpret test\n",
    "    if p_value < alpha:\n",
    "        r = 'GOALKEEPERS HAVE STATISTICALLY DIFFERENT SAVE RATES'\n",
    "    else:\n",
    "        r = 'GOALKEEPERS HAVE STATISTICALLY EQUIVALENT SAVE RATES'\n",
    "\n",
    "    #print results\n",
    "    print(p1_name, \"observed save rate:\", p1_results.mean())\n",
    "    print(p2_name, \"observed save rate:\", p2_results.mean())\n",
    "    print('t-statistic:', t_stat)\n",
    "    print('p-value:', p_value)\n",
    "    print()\n",
    "    print(r)"
   ]
  },
  {
   "cell_type": "markdown",
   "metadata": {
    "application/vnd.databricks.v1+cell": {
     "cellMetadata": {},
     "inputWidgets": {},
     "nuid": "1c679459-459d-49d7-818a-1e1a189ee8b5",
     "showTitle": false,
     "title": ""
    }
   },
   "source": [
    "### Scenario 1"
   ]
  },
  {
   "cell_type": "markdown",
   "metadata": {
    "application/vnd.databricks.v1+cell": {
     "cellMetadata": {},
     "inputWidgets": {},
     "nuid": "6ef9b182-248e-4c67-9bb2-f2c4c8ff72d7",
     "showTitle": false,
     "title": ""
    }
   },
   "source": [
    "In scenario 1, let's say Buffon has a save rate of 25% and Casillas has a save rate of 30%"
   ]
  },
  {
   "cell_type": "code",
   "execution_count": 0,
   "metadata": {
    "application/vnd.databricks.v1+cell": {
     "cellMetadata": {
      "byteLimit": 2048000,
      "rowLimit": 10000
     },
     "inputWidgets": {},
     "nuid": "3dbcdeab-72cd-4f73-bb7b-704db73d2ac0",
     "showTitle": false,
     "title": ""
    }
   },
   "outputs": [],
   "source": [
    "buffon_rate = 0.25\n",
    "casillas_rate = 0.3\n",
    "n=1964\n",
    "seed=123 #for reproducibility\n",
    "\n",
    "t_experiment('Buffon', buffon_rate, 'Casillas', casillas_rate, n, 123)"
   ]
  },
  {
   "cell_type": "markdown",
   "metadata": {
    "application/vnd.databricks.v1+cell": {
     "cellMetadata": {},
     "inputWidgets": {},
     "nuid": "441a5df6-b138-423f-9fbe-c853cdda0371",
     "showTitle": false,
     "title": ""
    }
   },
   "source": [
    "We correctly identified that Casillas is the better goalkeeper"
   ]
  },
  {
   "cell_type": "markdown",
   "metadata": {
    "application/vnd.databricks.v1+cell": {
     "cellMetadata": {},
     "inputWidgets": {},
     "nuid": "6f10993f-198e-4e19-a213-5af8c1402a6e",
     "showTitle": false,
     "title": ""
    }
   },
   "source": [
    "### Scenario 2 "
   ]
  },
  {
   "cell_type": "markdown",
   "metadata": {
    "application/vnd.databricks.v1+cell": {
     "cellMetadata": {},
     "inputWidgets": {},
     "nuid": "de3dd84a-da45-49b6-a2eb-9a5524e91a30",
     "showTitle": false,
     "title": ""
    }
   },
   "source": [
    "But now let's say they are a bit closer. Buffon's save rate is 28% and Casillas's is 30%"
   ]
  },
  {
   "cell_type": "code",
   "execution_count": 0,
   "metadata": {
    "application/vnd.databricks.v1+cell": {
     "cellMetadata": {
      "byteLimit": 2048000,
      "rowLimit": 10000
     },
     "inputWidgets": {},
     "nuid": "70b5ba98-0ee7-4da5-ac33-fb0f8ca83c1e",
     "showTitle": false,
     "title": ""
    }
   },
   "outputs": [],
   "source": [
    "buffon_rate = 0.28\n",
    "casillas_rate = 0.3\n",
    "n=1964\n",
    "seed=123 #for reproducibility\n",
    "\n",
    "t_experiment('Buffon', buffon_rate, 'Casillas', casillas_rate, n, 123)"
   ]
  },
  {
   "cell_type": "markdown",
   "metadata": {
    "application/vnd.databricks.v1+cell": {
     "cellMetadata": {},
     "inputWidgets": {},
     "nuid": "52156d06-e889-428b-af46-10a19f49e112",
     "showTitle": false,
     "title": ""
    }
   },
   "source": [
    "We spent nearly 4000 penalty kicks to not even pick up the different save rates"
   ]
  },
  {
   "cell_type": "markdown",
   "metadata": {
    "application/vnd.databricks.v1+cell": {
     "cellMetadata": {},
     "inputWidgets": {},
     "nuid": "878ae107-528f-4be8-a26e-1e3f1b13009c",
     "showTitle": false,
     "title": ""
    }
   },
   "source": [
    "### Scenario 3"
   ]
  },
  {
   "cell_type": "markdown",
   "metadata": {
    "application/vnd.databricks.v1+cell": {
     "cellMetadata": {},
     "inputWidgets": {},
     "nuid": "a5912ac7-8d43-49a6-8166-a5915bc97433",
     "showTitle": false,
     "title": ""
    }
   },
   "source": [
    "Now let's say the opposite, Casillas is much better than Buffon. Buffon's save rate is 20% and Casillas's is 30%"
   ]
  },
  {
   "cell_type": "code",
   "execution_count": 0,
   "metadata": {
    "application/vnd.databricks.v1+cell": {
     "cellMetadata": {
      "byteLimit": 2048000,
      "rowLimit": 10000
     },
     "inputWidgets": {},
     "nuid": "787318b8-e265-4b72-9abf-528647429a49",
     "showTitle": false,
     "title": ""
    }
   },
   "outputs": [],
   "source": [
    "buffon_rate = 0.2\n",
    "casillas_rate = 0.3\n",
    "n=1964\n",
    "seed=123 #for reproducibility\n",
    "\n",
    "t_experiment('Buffon', buffon_rate, 'Casillas', casillas_rate, n, 123)"
   ]
  },
  {
   "cell_type": "markdown",
   "metadata": {
    "application/vnd.databricks.v1+cell": {
     "cellMetadata": {},
     "inputWidgets": {},
     "nuid": "7b57c375-dc69-4f4c-a3f2-effbb474323c",
     "showTitle": false,
     "title": ""
    }
   },
   "source": [
    "Our experiment clearly picks up the difference. But did we need to shoot nearly 4000 penalty kicks to learn that Casillas is superior? \n",
    "\n",
    "No. We could have gotten the same information with each goalkeeper facing only 40 shots (2% of the original planned experiment)"
   ]
  },
  {
   "cell_type": "code",
   "execution_count": 0,
   "metadata": {
    "application/vnd.databricks.v1+cell": {
     "cellMetadata": {
      "byteLimit": 2048000,
      "rowLimit": 10000
     },
     "inputWidgets": {},
     "nuid": "ee3c9ba4-6c53-4747-9bbe-05fca9e34355",
     "showTitle": false,
     "title": ""
    }
   },
   "outputs": [],
   "source": [
    "buffon_rate = 0.2\n",
    "casillas_rate = 0.3\n",
    "n=40\n",
    "seed=123 #for reproducibility\n",
    "\n",
    "t_experiment('Buffon', buffon_rate, 'Casillas', casillas_rate, n, 123)"
   ]
  },
  {
   "cell_type": "markdown",
   "metadata": {
    "application/vnd.databricks.v1+cell": {
     "cellMetadata": {},
     "inputWidgets": {},
     "nuid": "07e7893a-25c4-4857-b007-b52f1cead700",
     "showTitle": false,
     "title": ""
    }
   },
   "source": [
    "## Conclusion"
   ]
  },
  {
   "cell_type": "markdown",
   "metadata": {
    "application/vnd.databricks.v1+cell": {
     "cellMetadata": {},
     "inputWidgets": {},
     "nuid": "199deee0-39ae-4aba-8b59-28621f80ccb8",
     "showTitle": false,
     "title": ""
    }
   },
   "source": [
    "Our simulation laid bare some of the drawbacks of the classical approach to this problem:\n",
    "\n",
    "- The coach does not want to spend hours taking 4000 penalty kicks. That time could be spent on more impactful training\n",
    "- If the goalkeepers have similar, but not *equivalent*, save rates (as in scenario 2), we still will not identify the correct goalkeeper\n",
    "- If the goalkeepers are vastly different (as in scenario 3), we don't want to complete the experiment\n",
    "- While there are tests (like the [Chi-squared](https://en.wikipedia.org/wiki/Chi-squared_test)) that scale to multiple goalkeepers, they often only test if one goalkeeper is _different_, not which one is best\n",
    "- What if the team faces a shootout before they can complete the experiment? They need a way to choose which goalkeeper with incomplete data"
   ]
  },
  {
   "cell_type": "markdown",
   "metadata": {
    "application/vnd.databricks.v1+cell": {
     "cellMetadata": {},
     "inputWidgets": {},
     "nuid": "ecca36b2-87bf-4b82-8a7e-c3899d579672",
     "showTitle": false,
     "title": ""
    }
   },
   "source": [
    "This exposes a tension called *The Explore Exploit Dilemma*.\n",
    "\n",
    "On one hand we want to **_explore_** and collect more data (have both goalkeepers face more shots).\n",
    "\n",
    "On the other hand, we want to _**exploit**_ and make sure the better goalkeeper faces as many shots as possible, since he will save more.\n",
    "\n",
    "Our first approach does not handle this tension in a satisfactory way. Let's turn to a new way of thinking."
   ]
  },
  {
   "cell_type": "markdown",
   "metadata": {
    "application/vnd.databricks.v1+cell": {
     "cellMetadata": {},
     "inputWidgets": {},
     "nuid": "47ced246-cec1-4ac9-a017-87a67dd91ea7",
     "showTitle": false,
     "title": ""
    }
   },
   "source": [
    "#Approach 2: Epsilon Greedy"
   ]
  },
  {
   "cell_type": "markdown",
   "metadata": {
    "application/vnd.databricks.v1+cell": {
     "cellMetadata": {},
     "inputWidgets": {},
     "nuid": "d875a179-b413-4e94-b2d0-e44ce79c8798",
     "showTitle": false,
     "title": ""
    }
   },
   "source": [
    "The team has made a couple additions to its roster. First, the team has added a new goalkeeper named Neuer. The coach now has to select between the three goalkeepers which has the best save rate.\n",
    "\n",
    "The team has also added an analyst to use data to improve performance. The coach meets with the analyst and pitches him the problem of deciding which goalkeeper has the highest save rate. The coach wants to vet what the analyst suggests before doing the experiment, so they decide to simulate the analyst's approach and talk about the results."
   ]
  },
  {
   "cell_type": "markdown",
   "metadata": {
    "application/vnd.databricks.v1+cell": {
     "cellMetadata": {},
     "inputWidgets": {},
     "nuid": "592a894a-5766-4ce0-bd02-b5f130a98d62",
     "showTitle": false,
     "title": ""
    }
   },
   "source": [
    "The analyst proposes this experiment.\n",
    "\n",
    "> Assume all goalkeepers have a save rate of 0. We then select a random number between 1 and 10.\n",
    "- If we select 1, choose a goalkeeper at random and have them face the next shot. Update our estimated save rate for that goalkeeper based on if they save the shot or not.\n",
    "- If we select a number between 2 and 10, choose the goalkeeper with the highest estimated save rate to face the next shot. Update our estimated save rate for that goalkeeper based on if they save the shot or not.  "
   ]
  },
  {
   "cell_type": "markdown",
   "metadata": {
    "application/vnd.databricks.v1+cell": {
     "cellMetadata": {},
     "inputWidgets": {},
     "nuid": "14985472-f17c-4f06-a050-cb7ba1600425",
     "showTitle": false,
     "title": ""
    }
   },
   "source": [
    "## Simulation"
   ]
  },
  {
   "cell_type": "code",
   "execution_count": 0,
   "metadata": {
    "application/vnd.databricks.v1+cell": {
     "cellMetadata": {
      "byteLimit": 2048000,
      "rowLimit": 10000
     },
     "inputWidgets": {},
     "nuid": "f3d3eaa6-7894-4f47-bf4e-234b86c3d049",
     "showTitle": false,
     "title": ""
    }
   },
   "outputs": [],
   "source": [
    "import pandas as pd\n",
    "import matplotlib.pyplot as plt\n",
    "import seaborn as sns\n",
    "\n",
    "#goalkeeper colors\n",
    "blue = '#0358B4' #italian blue\n",
    "blue_shade = '#afd5fe'\n",
    "red = '#F81635' #spanish red\n",
    "red_shade = '#fc9ca9'\n",
    "teal = '#056E73' #german retro teal\n",
    "teal_shade = '#89fad8'\n",
    "\n",
    "#generic colors\n",
    "black = '#000000' #actuals\n",
    "gray =  '#BCC3C1' #uncertainty\n",
    "orange = '#FF7F0E' #target"
   ]
  },
  {
   "cell_type": "markdown",
   "metadata": {
    "application/vnd.databricks.v1+cell": {
     "cellMetadata": {},
     "inputWidgets": {},
     "nuid": "cc815665-9ac2-49af-9e80-9ae241528976",
     "showTitle": false,
     "title": ""
    }
   },
   "source": [
    "### Code for Simulation"
   ]
  },
  {
   "cell_type": "code",
   "execution_count": 0,
   "metadata": {
    "application/vnd.databricks.v1+cell": {
     "cellMetadata": {
      "byteLimit": 2048000,
      "rowLimit": 10000
     },
     "collapsed": true,
     "inputWidgets": {},
     "nuid": "bf2ee9d7-c423-4ffb-b6ef-237d6ef42ba0",
     "showTitle": false,
     "title": ""
    }
   },
   "outputs": [],
   "source": [
    "#set up a class to model each goalkeeper\n",
    "class Goalkeeper:\n",
    "    def __init__(self, p, name):\n",
    "        self.p = p #p is the true save rate\n",
    "        self.p_estimate = 0 #start with an estimate of 0\n",
    "        self.N = 0 #samples collected so far\n",
    "        self.name = name #assign name to goalkeeper\n",
    "\n",
    "    def face_shot(self):\n",
    "        #save the shot with probability p\n",
    "        return np.random.random() < self.p\n",
    "    \n",
    "    def update(self, x):\n",
    "        #x is 0 or 1\n",
    "        self.N += 1 #record the faced shot\n",
    "        self.p_estimate = ((self.N - 1)*self.p_estimate + x) / self.N #update our estimate of p"
   ]
  },
  {
   "cell_type": "code",
   "execution_count": 0,
   "metadata": {
    "application/vnd.databricks.v1+cell": {
     "cellMetadata": {
      "byteLimit": 2048000,
      "rowLimit": 10000
     },
     "collapsed": true,
     "inputWidgets": {},
     "nuid": "2cb6424c-30ab-4956-9934-fd120c174c69",
     "showTitle": false,
     "title": ""
    }
   },
   "outputs": [],
   "source": [
    "def experiment(num_trials, epsilon, gk_save_rates, gk_names):\n",
    "    \"\"\"\n",
    "    Run an epsilon-greedy experiment\n",
    "\n",
    "    num_trials (int): the number of trials in the experiment\n",
    "    epsilon (float): the probability of exploration, needs to be between 0 and 1\n",
    "    gk_save_rates (list of floats): the true save rates of each goalkeeper\n",
    "    gk_names (list of strings): the names of each goalkeeper (must be same order as rates)\n",
    "\n",
    "    df (dataframe): the results of the experiment \n",
    "    \"\"\"\n",
    "\n",
    "    #get a list of all goalkeepers\n",
    "    gks = [Goalkeeper(p, name) for p, name in zip(gk_save_rates, gk_names)]\n",
    "\n",
    "    #initialize results\n",
    "    trial_ids = []\n",
    "    exploit_results = []\n",
    "    gk_results = []\n",
    "    save_results = []\n",
    "    p_est_results = []\n",
    "    chosen_results = []\n",
    "     \n",
    "    #For each trial in the experiment, decided whether to exploit, select your gk, and face the shot\n",
    "    for i in range(num_trials):\n",
    "        #SELECT GK\n",
    "        trial_ids.append(i+1) #record trial id\n",
    "\n",
    "        #if the random value is less than epsilon, we explore by choosing a goalkeeper at random \n",
    "        if np.random.random() < epsilon:\n",
    "            exploit_results.append(False) #record explore\n",
    "            gk_selected = np.random.randint(len(gks)) #choose a goalkeeper at random\n",
    "            gk_results.append(gks[gk_selected].name) #record which gk we selected\n",
    "        else: #otherwise use the best gk\n",
    "            exploit_results.append(True) #recrod exploit\n",
    "            gk_selected = np.argmax([gk.p_estimate for gk in gks]) #choose gk with current best rate\n",
    "            gk_results.append(gks[gk_selected].name) #record which gk we selected\n",
    "\n",
    "        #FACE THE SHOT\n",
    "\n",
    "        #face the shot. 1 if a save, 0 if a goal\n",
    "        save = gks[gk_selected].face_shot()\n",
    "        #udpate results array\n",
    "        save_results.append(save)\n",
    "        #update the estimate of gk save rate\n",
    "        gks[gk_selected].update(save)\n",
    "        #record estimates\n",
    "        p_est_results.append([gk.p_estimate for gk in gks])\n",
    "        #record chosen gk after this trial\n",
    "        chosen_results.append(gks[np.argmax([gk.p_estimate for gk in gks])].name)\n",
    "\n",
    "    #determine array of optimal choice\n",
    "    opt = gks[np.argmax([gk.p for gk in gks])].name #optimal gk\n",
    "    opt_results = [g == opt for g in gk_results]\n",
    "    \n",
    "    #compile results in a dataframe\n",
    "    df = pd.DataFrame({\n",
    "        **{\n",
    "            'trial_id': trial_ids,\n",
    "            'exploit': exploit_results,\n",
    "            'goalkeeper': gk_results,\n",
    "            'optimal_goalkeeper': opt_results,\n",
    "            'save': save_results,\n",
    "            },\n",
    "        **{gks[i].name+'_est_p': [x[i] for x in p_est_results] for i in range(len(gks))},\n",
    "        **{\n",
    "            'top_goalkeeper': chosen_results,\n",
    "            }\n",
    "        }\n",
    "                      )\n",
    "    \n",
    "    #add true save rates\n",
    "    for g in gks:\n",
    "        df[g.name+'_p'] = g.p\n",
    "    \n",
    "    #Add cumulative results\n",
    "    df['cumulative_exploit'] = df['exploit'].cumsum()\n",
    "    df['cumulative_exploit_rate'] = df['cumulative_exploit'] / df['trial_id']\n",
    "    df['target_exploit_rate'] = 1-epsilon\n",
    "    df['cumulative_optimal_goalkeeper'] = df['optimal_goalkeeper'].cumsum()\n",
    "    df['cumulative_optimal_rate'] = df['cumulative_optimal_goalkeeper'] / df['trial_id']\n",
    "    df['target_optimal_rate'] = 1\n",
    "    df['cumulative_saves'] = df['save'].cumsum()\n",
    "    df['cumulative_save_rate'] = df['cumulative_saves'] / df['trial_id']\n",
    "    df['target_save_rate'] = np.max([gk.p for gk in gks])\n",
    "    \n",
    "    #record parameters\n",
    "    df['num_trials'] = num_trials\n",
    "    df['epsilon'] = epsilon\n",
    "    \n",
    "    return df"
   ]
  },
  {
   "cell_type": "code",
   "execution_count": 0,
   "metadata": {
    "application/vnd.databricks.v1+cell": {
     "cellMetadata": {
      "byteLimit": 2048000,
      "rowLimit": 10000
     },
     "collapsed": true,
     "inputWidgets": {},
     "nuid": "e3d8c9c4-35c5-49b2-944b-d653021b812d",
     "showTitle": false,
     "title": ""
    }
   },
   "outputs": [],
   "source": [
    "def simulation(num_experiments, num_trials, epsilon, gk_save_rates, gk_names):\n",
    "    \"\"\"\n",
    "    Run a simulation of epsilon greedy experiments\n",
    "\n",
    "    num_experiments (int): the number of experiments in the simulation\n",
    "    num_trials (int): the number of trials per experiment\n",
    "    epsilon (float): the probability of exploration, needs to be between 0 and 1\n",
    "    gk_save_rates (list of floats): the true save rates of each goalkeeper\n",
    "    gk_names (list of strings): the names of each goalkeeper (must be same order as rates)\n",
    "\n",
    "    sim_df (dataframe): the results of the simulation \n",
    "    \"\"\"\n",
    "\n",
    "    #initialize df\n",
    "    i = 1\n",
    "    np.random.seed(i) #set seed\n",
    "    sim_df = experiment(num_trials, epsilon, gk_save_rates, gk_names)\n",
    "    sim_df['experiment_id'] = i\n",
    "\n",
    "    #iterate through other trials\n",
    "    for i in range(1, num_experiments):\n",
    "        np.random.seed(i+1)  #set seed\n",
    "        df = experiment(num_trials, epsilon, gk_save_rates, gk_names)\n",
    "        df['experiment_id'] = i+1\n",
    "        sim_df = pd.concat([sim_df, df])\n",
    "\n",
    "    return sim_df\n"
   ]
  },
  {
   "cell_type": "markdown",
   "metadata": {
    "application/vnd.databricks.v1+cell": {
     "cellMetadata": {},
     "inputWidgets": {},
     "nuid": "e0414764-37d2-444c-8379-302bee8682cc",
     "showTitle": false,
     "title": ""
    }
   },
   "source": [
    "### Code to Plot Results"
   ]
  },
  {
   "cell_type": "markdown",
   "metadata": {
    "application/vnd.databricks.v1+cell": {
     "cellMetadata": {},
     "inputWidgets": {},
     "nuid": "045df88b-0da5-496a-87c5-7ace58dc9e4d",
     "showTitle": false,
     "title": ""
    }
   },
   "source": [
    "#### Experiment"
   ]
  },
  {
   "cell_type": "code",
   "execution_count": 0,
   "metadata": {
    "application/vnd.databricks.v1+cell": {
     "cellMetadata": {
      "byteLimit": 2048000,
      "rowLimit": 10000
     },
     "inputWidgets": {},
     "nuid": "fd278767-4bd8-486d-a597-91634bf1c8fb",
     "showTitle": false,
     "title": ""
    }
   },
   "outputs": [],
   "source": [
    "def plot_exploit_rate_experiment(df):\n",
    "    \"\"\"\n",
    "    Given a dataframe output from a single experiment, plot the cumulative exploit rate\n",
    "    \"\"\"\n",
    "\n",
    "    fig, ax = plt.subplots(figsize=(6, 4))\n",
    "\n",
    "    #plot target and actual exploit rates\n",
    "    ax.plot(df[\"trial_id\"], df[\"cumulative_exploit_rate\"], label='Actual Exploit Rate', color=black)\n",
    "    ax.plot(df[\"trial_id\"], df[\"target_exploit_rate\"], label='Target Exploit Rate', color=orange, linestyle=\"--\")\n",
    "\n",
    "    #y should be betwee 0 and 1\n",
    "    ax.set_ylim(0, 1) \n",
    "\n",
    "    #labels\n",
    "    ax.set_xlabel('Trial ID')\n",
    "    ax.set_ylabel('Actual Exploit Rate')\n",
    "    ax.set_title('Cumulative Exploit Rate over Trials', fontsize=10, loc='left')\n",
    "    ax.legend(fontsize=8)\n",
    "\n",
    "    plt.show()"
   ]
  },
  {
   "cell_type": "code",
   "execution_count": 0,
   "metadata": {
    "application/vnd.databricks.v1+cell": {
     "cellMetadata": {
      "byteLimit": 2048000,
      "rowLimit": 10000
     },
     "inputWidgets": {},
     "nuid": "4c52d89a-6c6a-4532-a3e0-7da978e1cdc8",
     "showTitle": false,
     "title": ""
    }
   },
   "outputs": [],
   "source": [
    "def plot_save_rate_experiment(df):\n",
    "    \"\"\"\n",
    "    Given a dataframe output from a single experiment, plot the cumulative save rate\n",
    "    \"\"\"\n",
    "\n",
    "    fig, ax = plt.subplots(figsize=(6, 4))\n",
    "\n",
    "    #plot target and actual exploit rates\n",
    "    ax.plot(df[\"trial_id\"], df[\"cumulative_save_rate\"], label='Actual Save Rate', color=black)\n",
    "    ax.plot(df[\"trial_id\"], df[\"target_save_rate\"], label='Target Save Rate', color=orange, linestyle=\"--\")\n",
    "\n",
    "    #y should be betwee 0 and 1\n",
    "    ax.set_ylim(0, 1) \n",
    "\n",
    "    #labels\n",
    "    ax.set_xlabel('Trial ID')\n",
    "    ax.set_ylabel('Actual Save Rate')\n",
    "    ax.set_title('Cumulative Save Rate over Trials', fontsize=10, loc='left')\n",
    "    ax.legend(fontsize=8)\n",
    "\n",
    "    plt.show()"
   ]
  },
  {
   "cell_type": "code",
   "execution_count": 0,
   "metadata": {
    "application/vnd.databricks.v1+cell": {
     "cellMetadata": {
      "byteLimit": 2048000,
      "rowLimit": 10000
     },
     "inputWidgets": {},
     "nuid": "f1d4cb7a-22bb-4fd9-9a12-c2d2d8d9d441",
     "showTitle": false,
     "title": ""
    }
   },
   "outputs": [],
   "source": [
    "def plot_optimal_rate_experiment(df):\n",
    "    \"\"\"\n",
    "    Given a dataframe output from a single experiment, plot the cumulative optimal rate\n",
    "    \"\"\"\n",
    "\n",
    "    fig, ax = plt.subplots(figsize=(6, 4))\n",
    "\n",
    "    #plot target and actual exploit rates\n",
    "    ax.plot(df[\"trial_id\"], df[\"cumulative_optimal_rate\"], label='Actual Optimal Rate', color=black)\n",
    "    ax.plot(df[\"trial_id\"], df[\"target_optimal_rate\"], label='Target Optimal Rate', color=orange, linestyle=\"--\")\n",
    "\n",
    "    #y should be betwee 0 and 1\n",
    "    ax.set_ylim(0, 1.05) \n",
    "\n",
    "    #labels\n",
    "    ax.set_xlabel('Trial ID')\n",
    "    ax.set_ylabel('Actual Optimal Rate')\n",
    "    ax.set_title('Cumulative Optimal Rate over Trials', fontsize=10, loc='left')\n",
    "    ax.legend(fontsize=8)\n",
    "\n",
    "    plt.show()"
   ]
  },
  {
   "cell_type": "code",
   "execution_count": 0,
   "metadata": {
    "application/vnd.databricks.v1+cell": {
     "cellMetadata": {
      "byteLimit": 2048000,
      "rowLimit": 10000
     },
     "inputWidgets": {},
     "nuid": "d80b0f4d-977a-4eb3-a2c1-ea6e11be4ea0",
     "showTitle": false,
     "title": ""
    }
   },
   "outputs": [],
   "source": [
    "def plot_p_est_experiment(df):\n",
    "    \"\"\"\n",
    "    Given a dataframe output from a single experiment, plot the estimated and true save rates for each goalkeeper over time\n",
    "    \"\"\"\n",
    "\n",
    "    fig, ax = plt.subplots(figsize=(6, 4))\n",
    "\n",
    "    #plot target and actual exploit rates\n",
    "    ax.plot(df[\"trial_id\"], df[\"Buffon_est_p\"], label='Buffon Estimated Save Rate', color=blue_shade)\n",
    "    ax.plot(df[\"trial_id\"], df[\"Buffon_p\"], label='Buffon True Save Rate', color=blue, linestyle=\"--\")\n",
    "\n",
    "    ax.plot(df[\"trial_id\"], df[\"Casillas_est_p\"], label='Casillas Estimated Save Rate', color=red_shade)\n",
    "    ax.plot(df[\"trial_id\"], df[\"Casillas_p\"], label='Casillas True Save Rate', color=red, linestyle=\"--\")\n",
    "\n",
    "    ax.plot(df[\"trial_id\"], df[\"Neuer_est_p\"], label='Neuer Estimated Save Rate', color=teal_shade)\n",
    "    ax.plot(df[\"trial_id\"], df[\"Neuer_p\"], label='Neuer True Save Rate', color=teal, linestyle=\"--\")\n",
    "\n",
    "    #y should be betwee 0 and 1\n",
    "    ax.set_ylim(0, 1) \n",
    "\n",
    "    #labels\n",
    "    ax.set_xlabel('Trial ID')\n",
    "    ax.set_ylabel('Save Rate')\n",
    "    ax.set_title('Estimated Save Rates over Trials', fontsize=10, loc='left')\n",
    "    ax.legend(fontsize=8)\n",
    "\n",
    "    plt.show()"
   ]
  },
  {
   "cell_type": "code",
   "execution_count": 0,
   "metadata": {
    "application/vnd.databricks.v1+cell": {
     "cellMetadata": {
      "byteLimit": 2048000,
      "rowLimit": 10000
     },
     "inputWidgets": {},
     "nuid": "5fa7d669-e3c6-4b1f-828e-c528c075f4bb",
     "showTitle": false,
     "title": ""
    }
   },
   "outputs": [],
   "source": [
    "def plot_top_goalkeeper_experiment(df):\n",
    "    \"\"\"\n",
    "    Given a dataframe output from a single experiment, plot the estimated best goalkeeper over time\n",
    "    \"\"\"\n",
    "\n",
    "    # PREPARE DATAFRAME\n",
    "\n",
    "    #map gk_names to colors\n",
    "    colors = ['blue', 'red', 'teal']\n",
    "    color_map = {'Buffon': colors[0], 'Casillas': colors[1], 'Neuer': colors[2]}\n",
    "\n",
    "    #create df for heatmap. experiments are rows; columns are trials\n",
    "    experiment_ids = df['experiment_id'].unique()\n",
    "    trial_ids = df['trial_id'].unique()\n",
    "    heatmap_data = pd.DataFrame(index=experiment_ids, columns=trial_ids)\n",
    "\n",
    "    #fill heatmap using 'top_goalkeeper' column mapped to color\n",
    "    for index, row in df.iterrows():\n",
    "        goalkeeper = row['top_goalkeeper']\n",
    "        trial_id = row['trial_id']\n",
    "        experiment_id = row['experiment_id']\n",
    "        heatmap_data.loc[experiment_id, trial_id] = color_map[goalkeeper]\n",
    "\n",
    "    #convert colors to numeric values for heatmap\n",
    "    color_to_num = {color: i for i, color in enumerate(colors)}\n",
    "    heatmap_data_numeric = heatmap_data.replace(color_to_num)\n",
    "\n",
    "    # PLOTTING\n",
    "\n",
    "    #plot heatmap\n",
    "    fig, ax = plt.subplots(figsize=(15, 2))\n",
    "    sns.heatmap(heatmap_data_numeric, cmap=colors, cbar=False, ax=ax)\n",
    "\n",
    "    #label experiment id\n",
    "    ax.set_yticklabels(ax.get_yticklabels(), rotation=0)\n",
    "    ax.set_ylabel('Experiment ID')\n",
    "\n",
    "    #label every 100th trial id\n",
    "    ax.set_xticks(range(0, max(trial_ids), 100))\n",
    "    ax.set_xticklabels(range(0, max(trial_ids), 100), rotation=0)\n",
    "    ax.set_xlabel('Trial ID')\n",
    "\n",
    "    #set title\n",
    "    ax.set_title('Top Goalkeeper After Each Trial', fontsize=10, loc='left')\n",
    "    #add legend\n",
    "    handles = [plt.Rectangle((0,0),1,1, color=color_map[gk]) for gk in color_map]\n",
    "    ax.legend(handles, color_map.keys(), title=\"Goalkeepers\", bbox_to_anchor=(1.02, 1), loc='upper left')\n",
    "\n",
    "    plt.show()"
   ]
  },
  {
   "cell_type": "markdown",
   "metadata": {
    "application/vnd.databricks.v1+cell": {
     "cellMetadata": {},
     "inputWidgets": {},
     "nuid": "a9b2ccd7-81ec-4740-9d08-08ab19441099",
     "showTitle": false,
     "title": ""
    }
   },
   "source": [
    "#### Simulation"
   ]
  },
  {
   "cell_type": "code",
   "execution_count": 0,
   "metadata": {
    "application/vnd.databricks.v1+cell": {
     "cellMetadata": {
      "byteLimit": 2048000,
      "rowLimit": 10000
     },
     "collapsed": true,
     "inputWidgets": {},
     "nuid": "d2912567-ff4b-446d-9ebb-80ffaa7acdab",
     "showTitle": false,
     "title": ""
    }
   },
   "outputs": [],
   "source": [
    "def plot_exploit_rate_simulation(df):\n",
    "    \"\"\"\n",
    "    Given a dataframe output from a simulation, plot the cumulative exploit rate\n",
    "    \"\"\"\n",
    "\n",
    "    #aggregate experiments\n",
    "    df_grp = (\n",
    "        df\n",
    "        .groupby('trial_id')\n",
    "        .agg(\n",
    "            exploit_rate_mu=('cumulative_exploit_rate', 'mean'),\n",
    "            exploit_rate_std=('cumulative_exploit_rate', 'std'),\n",
    "            target_exploit_rate=('target_exploit_rate', 'max')\n",
    "            )\n",
    "    )\n",
    "\n",
    "    #reset index\n",
    "    df_grp = df_grp.reset_index()\n",
    "\n",
    "    #calculate range\n",
    "    df_grp['exploit_rate_max'] = df_grp['exploit_rate_mu'] + df_grp['exploit_rate_std']\n",
    "    df_grp['exploit_rate_min'] = df_grp['exploit_rate_mu'] - df_grp['exploit_rate_std']\n",
    "\n",
    "    #plot data\n",
    "    fig, ax = plt.subplots(figsize=(6, 4))\n",
    "\n",
    "    #plot average and target rates\n",
    "    ax.plot(df_grp[\"trial_id\"], df_grp[\"exploit_rate_mu\"], label='Avg. Exploit Rate', color=black)\n",
    "    ax.plot(df_grp[\"trial_id\"], df_grp[\"target_exploit_rate\"], label='Target Exploit Rate', color=orange, linestyle=\"--\")\n",
    "\n",
    "    # Shade between standard deviation\n",
    "    ax.fill_between(df_grp[\"trial_id\"], df_grp[\"exploit_rate_min\"], df_grp[\"exploit_rate_max\"], color=gray, label='Std. Dev.')\n",
    "\n",
    "    #y should be betwee 0 and 1\n",
    "    ax.set_ylim(0, 1.05) \n",
    "\n",
    "    #labels\n",
    "    ax.set_xlabel('Trial ID')\n",
    "    ax.set_ylabel('Exploit Rate')\n",
    "    ax.set_title('Average Cumulative Exploit Rate over Trials', fontsize=10, loc='left')\n",
    "    ax.legend(fontsize=8)\n",
    "\n",
    "    plt.show()"
   ]
  },
  {
   "cell_type": "code",
   "execution_count": 0,
   "metadata": {
    "application/vnd.databricks.v1+cell": {
     "cellMetadata": {
      "byteLimit": 2048000,
      "rowLimit": 10000
     },
     "collapsed": true,
     "inputWidgets": {},
     "nuid": "4138ce71-4583-4466-8783-24c1f9325de1",
     "showTitle": false,
     "title": ""
    }
   },
   "outputs": [],
   "source": [
    "def plot_save_rate_simulation(df):\n",
    "    \"\"\"\n",
    "    Given a dataframe output from a simulation, plot the cumulative save rate\n",
    "    \"\"\"\n",
    "\n",
    "    #aggregate experiments\n",
    "    df_grp = (\n",
    "        df\n",
    "        .groupby('trial_id')\n",
    "        .agg(\n",
    "            save_rate_mu=('cumulative_save_rate', 'mean'),\n",
    "            save_rate_std=('cumulative_save_rate', 'std'),\n",
    "            target_save_rate=('target_save_rate', 'max')\n",
    "            )\n",
    "    )\n",
    "\n",
    "    #reset index\n",
    "    df_grp = df_grp.reset_index()\n",
    "\n",
    "    #calculate range\n",
    "    df_grp['save_rate_max'] = df_grp['save_rate_mu'] + df_grp['save_rate_std']\n",
    "    df_grp['save_rate_min'] = df_grp['save_rate_mu'] - df_grp['save_rate_std']\n",
    "\n",
    "    #plot data\n",
    "    fig, ax = plt.subplots(figsize=(6, 4))\n",
    "\n",
    "    #plot average and target rates\n",
    "    ax.plot(df_grp[\"trial_id\"], df_grp[\"save_rate_mu\"], label='Avg. Save Rate', color=black)\n",
    "    ax.plot(df_grp[\"trial_id\"], df_grp[\"target_save_rate\"], label='Target Save Rate', color=orange, linestyle=\"--\")\n",
    "\n",
    "    #shade between standard deviation\n",
    "    ax.fill_between(df_grp[\"trial_id\"], df_grp[\"save_rate_min\"], df_grp[\"save_rate_max\"], color=gray, label='Std. Dev.')\n",
    "\n",
    "    #y should be betwee 0 and 1\n",
    "    ax.set_ylim(0, 1.05) \n",
    "\n",
    "    #labels\n",
    "    ax.set_xlabel('Trial ID')\n",
    "    ax.set_ylabel('Save Rate')\n",
    "    ax.set_title('Average Cumulative Save Rate over Trials', fontsize=10, loc='left')\n",
    "    ax.legend(fontsize=8)\n",
    "\n",
    "    plt.show()"
   ]
  },
  {
   "cell_type": "code",
   "execution_count": 0,
   "metadata": {
    "application/vnd.databricks.v1+cell": {
     "cellMetadata": {
      "byteLimit": 2048000,
      "rowLimit": 10000
     },
     "collapsed": true,
     "inputWidgets": {},
     "nuid": "f0a7e31e-ef17-46de-a243-551f38e62a17",
     "showTitle": false,
     "title": ""
    }
   },
   "outputs": [],
   "source": [
    "def plot_optimal_rate_simulation(df, title='Average Cumulative Optimal Rate over Trials'):\n",
    "    \"\"\"\n",
    "    Given a dataframe output from a simulation, plot the cumulative optimal rate\n",
    "    \"\"\"\n",
    "\n",
    "    #aggregate experiments\n",
    "    df_grp = (\n",
    "        df\n",
    "        .groupby('trial_id')\n",
    "        .agg(\n",
    "            optimal_rate_mu=('cumulative_optimal_rate', 'mean'),\n",
    "            optimal_rate_std=('cumulative_optimal_rate', 'std'),\n",
    "            target_optimal_rate=('target_optimal_rate', 'max')\n",
    "            )\n",
    "    )\n",
    "\n",
    "    #reset index\n",
    "    df_grp = df_grp.reset_index()\n",
    "\n",
    "    #calculate range\n",
    "    df_grp['optimal_rate_max'] = df_grp['optimal_rate_mu'] + df_grp['optimal_rate_std']\n",
    "    df_grp['optimal_rate_min'] = df_grp['optimal_rate_mu'] - df_grp['optimal_rate_std']\n",
    "\n",
    "    #plot data\n",
    "    fig, ax = plt.subplots(figsize=(6, 4))\n",
    "\n",
    "    #plot average and target rates\n",
    "    ax.plot(df_grp[\"trial_id\"], df_grp[\"optimal_rate_mu\"], label='Avg. Optimal Rate', color=black)\n",
    "    ax.plot(df_grp[\"trial_id\"], df_grp[\"target_optimal_rate\"], label='Target Optimal Rate', color=orange, linestyle=\"--\")\n",
    "\n",
    "    #shade between standard deviation\n",
    "    ax.fill_between(df_grp[\"trial_id\"], df_grp[\"optimal_rate_min\"], df_grp[\"optimal_rate_max\"], color=gray, label='Std. Dev.')\n",
    "\n",
    "    #y should be betwee 0 and 1\n",
    "    ax.set_ylim(0, 1.05) \n",
    "\n",
    "    #labels\n",
    "    ax.set_xlabel('Trial ID')\n",
    "    ax.set_ylabel('Optimal Rate')\n",
    "    ax.set_title(title, fontsize=10, loc='left')\n",
    "    ax.legend(fontsize=8)\n",
    "\n",
    "    plt.show()"
   ]
  },
  {
   "cell_type": "code",
   "execution_count": 0,
   "metadata": {
    "application/vnd.databricks.v1+cell": {
     "cellMetadata": {
      "byteLimit": 2048000,
      "rowLimit": 10000
     },
     "collapsed": true,
     "inputWidgets": {},
     "nuid": "b2a081a4-8cb2-4b84-928b-c815e61bbed2",
     "showTitle": false,
     "title": ""
    }
   },
   "outputs": [],
   "source": [
    "def plot_p_est_simulation(df):\n",
    "    \"\"\"\n",
    "    Given a dataframe output from a simulation, plot the estimated and true save rates for each goalkeeper over time\n",
    "    \"\"\"\n",
    "\n",
    "    #aggregate experiments\n",
    "    df_grp = (\n",
    "        df\n",
    "        .groupby('trial_id')\n",
    "        .agg(\n",
    "            Buffon_est_p_mu=('Buffon_est_p', 'mean'),\n",
    "            Buffon_est_p_std=('Buffon_est_p', 'std'),\n",
    "            Buffon_p=('Buffon_p', 'max'),\n",
    "            Casillas_est_p_mu=('Casillas_est_p', 'mean'),\n",
    "            Casillas_est_p_std=('Casillas_est_p', 'std'),\n",
    "            Casillas_p=('Casillas_p', 'max'),\n",
    "            Neuer_est_p_mu=('Neuer_est_p', 'mean'),\n",
    "            Neuer_est_p_std=('Neuer_est_p', 'std'),\n",
    "            Neuer_p=('Neuer_p', 'max'),\n",
    "            )\n",
    "    )\n",
    "\n",
    "    #reset index\n",
    "    df_grp = df_grp.reset_index()\n",
    "\n",
    "    #calculate range\n",
    "    df_grp['Buffon_p_max'] = df_grp['Buffon_est_p_mu'] + df_grp['Buffon_est_p_std']\n",
    "    df_grp['Buffon_p_min'] = df_grp['Buffon_est_p_mu'] - df_grp['Buffon_est_p_std']\n",
    "    df_grp['Casillas_p_max'] = df_grp['Casillas_est_p_mu'] + df_grp['Casillas_est_p_std']\n",
    "    df_grp['Casillas_p_min'] = df_grp['Casillas_est_p_mu'] - df_grp['Casillas_est_p_std']\n",
    "    df_grp['Neuer_p_max'] = df_grp['Neuer_est_p_mu'] + df_grp['Neuer_est_p_std']\n",
    "    df_grp['Neuer_p_min'] = df_grp['Neuer_est_p_mu'] - df_grp['Neuer_est_p_std']\n",
    "\n",
    "    #plot data\n",
    "    fig, ax = plt.subplots(figsize=(6, 4))\n",
    "\n",
    "    #plot average and target rates\n",
    "    ax.plot(df_grp[\"trial_id\"], df_grp[\"Buffon_est_p_mu\"], label='Avg. Buffon Estimated Save Rate', color=blue)\n",
    "    ax.plot(df_grp[\"trial_id\"], df_grp[\"Buffon_p\"], label='Buffon True Save Rate', color=gray, linestyle=\"-.\")\n",
    "\n",
    "    #shade between standard deviation\n",
    "    ax.fill_between(df_grp[\"trial_id\"], df_grp[\"Buffon_p_min\"], df_grp[\"Buffon_p_max\"], color=blue_shade, alpha=0.3, label='Buffon Std. Dev.')\n",
    "\n",
    "    #plot average and target rates\n",
    "    ax.plot(df_grp[\"trial_id\"], df_grp[\"Casillas_est_p_mu\"], label='Avg. Casillas Estimated Save Rate', color=red)\n",
    "    ax.plot(df_grp[\"trial_id\"], df_grp[\"Casillas_p\"], label='Casillas True Save Rate', color=gray, linestyle=\":\")\n",
    "\n",
    "    #shade between standard deviation\n",
    "    ax.fill_between(df_grp[\"trial_id\"], df_grp[\"Casillas_p_min\"], df_grp[\"Casillas_p_max\"], color=red_shade, alpha=0.3, label='Casillas Std. Dev.')\n",
    "\n",
    "    #plot average and target rates\n",
    "    ax.plot(df_grp[\"trial_id\"], df_grp[\"Neuer_est_p_mu\"], label='Avg. Neuer Estimated Save Rate', color=teal)\n",
    "    ax.plot(df_grp[\"trial_id\"], df_grp[\"Neuer_p\"], label='Neuer True Save Rate', color=gray, linestyle=\"--\")\n",
    "\n",
    "    #shade between standard deviation\n",
    "    ax.fill_between(df_grp[\"trial_id\"], df_grp[\"Neuer_p_min\"], df_grp[\"Neuer_p_max\"], color=teal_shade, alpha=0.3, label='Neuer Std. Dev.')\n",
    "\n",
    "    #set the y axis as max of upper limit for any goalkeeper\n",
    "    y_max = df_grp[['Buffon_p_max', 'Casillas_p_max', 'Neuer_p_max']].max().max() +0.05\n",
    "    ax.set_ylim(0, y_max) \n",
    "\n",
    "    #labels\n",
    "    ax.set_xlabel('Trial ID')\n",
    "    ax.set_ylabel('Save Rate')\n",
    "    ax.set_title('Average Estimated Save Rates over Trials', fontsize=10, loc='left')\n",
    "    ax.legend(fontsize=8, bbox_to_anchor=(1.02, 1), loc='upper left')\n",
    "\n",
    "    plt.show()"
   ]
  },
  {
   "cell_type": "code",
   "execution_count": 0,
   "metadata": {
    "application/vnd.databricks.v1+cell": {
     "cellMetadata": {
      "byteLimit": 2048000,
      "rowLimit": 10000
     },
     "collapsed": true,
     "inputWidgets": {},
     "nuid": "941abc15-b326-485b-8df0-67c54f8cf260",
     "showTitle": false,
     "title": ""
    }
   },
   "outputs": [],
   "source": [
    "def plot_top_goalkeeper_simulation(df):\n",
    "    \"\"\"\n",
    "    Given a dataframe output from a simulation, plot the estimated best goalkeeper over time\n",
    "    \"\"\"\n",
    "\n",
    "    # PREPARE DATAFRAME\n",
    "\n",
    "    #map gk_names to colors\n",
    "    colors = ['blue', 'red', 'teal']\n",
    "    color_map = {'Buffon': colors[0], 'Casillas': colors[1], 'Neuer': colors[2]}\n",
    "\n",
    "    #create df for heatmap. experiments are rows; columns are trials\n",
    "    experiment_ids = df['experiment_id'].unique()\n",
    "    trial_ids = df['trial_id'].unique()\n",
    "    heatmap_data = pd.DataFrame(index=experiment_ids, columns=trial_ids)\n",
    "\n",
    "    #fill heatmap using 'top_goalkeeper' column mapped to color\n",
    "    for index, row in df.iterrows():\n",
    "        goalkeeper = row['top_goalkeeper']\n",
    "        trial_id = row['trial_id']\n",
    "        experiment_id = row['experiment_id']\n",
    "        heatmap_data.loc[experiment_id, trial_id] = color_map[goalkeeper]\n",
    "\n",
    "    #convert colors to numeric values for heatmap\n",
    "    color_to_num = {color: i for i, color in enumerate(colors)}\n",
    "    heatmap_data_numeric = heatmap_data.replace(color_to_num)\n",
    "\n",
    "    # PLOTTING\n",
    "\n",
    "    #plot heatmap\n",
    "    fig, ax = plt.subplots(figsize=(15, 5))\n",
    "    sns.heatmap(heatmap_data_numeric, cmap=colors, cbar=False, ax=ax)\n",
    "\n",
    "    #label every 10th experiment id\n",
    "    ax.set_yticks(range(0, max(experiment_ids), 10))\n",
    "    ax.set_yticklabels(range(0, max(experiment_ids), 10), rotation=0)\n",
    "    ax.set_ylabel('Experiment ID')\n",
    "\n",
    "    #label every 100th trial id\n",
    "    ax.set_xticks(range(0, max(trial_ids), 100))\n",
    "    ax.set_xticklabels(range(0, max(trial_ids), 100), rotation=0)\n",
    "    ax.set_xlabel('Trial ID')\n",
    "\n",
    "    #set title\n",
    "    ax.set_title('Top Goalkeeper After Each Trial', fontsize=10, loc='left')\n",
    "    #add legend\n",
    "    handles = [plt.Rectangle((0,0),1,1, color=color_map[gk]) for gk in color_map]\n",
    "    ax.legend(handles, color_map.keys(), title=\"Goalkeepers\", bbox_to_anchor=(1.02, 1), loc='upper left')\n",
    "\n",
    "    plt.show()"
   ]
  },
  {
   "cell_type": "code",
   "execution_count": 0,
   "metadata": {
    "application/vnd.databricks.v1+cell": {
     "cellMetadata": {
      "byteLimit": 2048000,
      "rowLimit": 10000
     },
     "inputWidgets": {},
     "nuid": "9afd074a-3400-4089-b612-6b8e87d9aa94",
     "showTitle": false,
     "title": ""
    }
   },
   "outputs": [],
   "source": [
    "def plot_top_goalkeeper_rate_simulation(df, title='Selected Rate over Trials'):\n",
    "    \"\"\"\n",
    "    Given a dataframe output from a simulation, plot the rate that we chose each goalkeeper over time\n",
    "\n",
    "    title (string): title of the chart\n",
    "    \"\"\"\n",
    "\n",
    "    #after each trial, count how many times we woulc pick each goalkeeper\n",
    "    df_grp = (\n",
    "        df\n",
    "        .groupby('trial_id')['top_goalkeeper']\n",
    "        .value_counts()\n",
    "        .unstack(fill_value=0)\n",
    "    )\n",
    "\n",
    "    #count number of experiments\n",
    "    df_grp['experiments'] = df_grp.sum(axis=1)\n",
    "\n",
    "    for gk in df['top_goalkeeper'].unique():\n",
    "        df_grp[gk+'_rate'] = df_grp[gk] / df_grp['experiments']\n",
    "\n",
    "    df_grp = df_grp.reset_index()\n",
    "\n",
    "    #plot data\n",
    "    fig, ax = plt.subplots(figsize=(6, 4))\n",
    "\n",
    "    #plot average and target rates\n",
    "    ax.plot(df_grp[\"trial_id\"], df_grp[\"Buffon_rate\"], label='Buffon', color=blue)\n",
    "    ax.plot(df_grp[\"trial_id\"], df_grp[\"Casillas_rate\"], label='Casillas', color=red)\n",
    "    ax.plot(df_grp[\"trial_id\"], df_grp[\"Neuer_rate\"], label='Neuer', color=teal)\n",
    "\n",
    "    #y should be betwee 0 and 1\n",
    "    ax.set_ylim(0, 1) \n",
    "\n",
    "    #labels\n",
    "    ax.set_xlabel('Trial ID')\n",
    "    ax.set_ylabel('Rate Selected')\n",
    "    ax.set_title(title, fontsize=10, loc='left')\n",
    "    ax.legend(fontsize=8)\n",
    "\n",
    "    plt.show()"
   ]
  },
  {
   "cell_type": "code",
   "execution_count": 0,
   "metadata": {
    "application/vnd.databricks.v1+cell": {
     "cellMetadata": {
      "byteLimit": 2048000,
      "rowLimit": 10000
     },
     "collapsed": true,
     "inputWidgets": {},
     "nuid": "14223f3f-4347-4b8f-880c-f507f5ebcb3b",
     "showTitle": false,
     "title": ""
    }
   },
   "outputs": [],
   "source": [
    "def plot_simulation_summary(df, title='Simulation Summary'):\n",
    "    \"\"\"\n",
    "    Given a dataframe output from a simulation, plot all relevant graphs\n",
    "    \"\"\"\n",
    "\n",
    "    #set up grid\n",
    "    fig, ((ax1, ax2), (ax3, ax4), (ax5, ax6)) = plt.subplots(nrows=3, ncols=2, sharex=True, figsize=(12, 12))\n",
    "    #set title for whole canvas\n",
    "    fig.suptitle(title, fontsize=16)\n",
    "\n",
    "    # EXPLOIT RATE\n",
    "\n",
    "    #aggregate experiments\n",
    "    df_grp = (\n",
    "        df\n",
    "        .groupby('trial_id')\n",
    "        .agg(\n",
    "            exploit_rate_mu=('cumulative_exploit_rate', 'mean'),\n",
    "            exploit_rate_std=('cumulative_exploit_rate', 'std'),\n",
    "            target_exploit_rate=('target_exploit_rate', 'max')\n",
    "            )\n",
    "    )\n",
    "\n",
    "    #reset index\n",
    "    df_grp = df_grp.reset_index()\n",
    "\n",
    "    #calculate range\n",
    "    df_grp['exploit_rate_max'] = df_grp['exploit_rate_mu'] + df_grp['exploit_rate_std']\n",
    "    df_grp['exploit_rate_min'] = df_grp['exploit_rate_mu'] - df_grp['exploit_rate_std']\n",
    "\n",
    "    #plot average and target rates\n",
    "    ax1.plot(df_grp[\"trial_id\"], df_grp[\"exploit_rate_mu\"], label='Avg. Exploit Rate', color=black)\n",
    "    ax1.plot(df_grp[\"trial_id\"], df_grp[\"target_exploit_rate\"], label='Target Exploit Rate', color=orange, linestyle=\"--\")\n",
    "\n",
    "    # Shade between standard deviation\n",
    "    ax1.fill_between(df_grp[\"trial_id\"], df_grp[\"exploit_rate_min\"], df_grp[\"exploit_rate_max\"], color=gray, label='Std. Dev.')\n",
    "\n",
    "    #y should be betwee 0 and 1\n",
    "    ax1.set_ylim(0, 1.05) \n",
    "\n",
    "    #labels\n",
    "    # ax1.set_xlabel('Trial ID')\n",
    "    ax1.set_ylabel('Exploit Rate')\n",
    "    ax1.set_title('Average Cumulative Exploit Rate over Trials', fontsize=10, loc='left')\n",
    "    ax1.legend(fontsize=8)\n",
    "\n",
    "    ## SAVE RATE\n",
    "\n",
    "    #aggregate experiments\n",
    "    df_grp = (\n",
    "        df\n",
    "        .groupby('trial_id')\n",
    "        .agg(\n",
    "            save_rate_mu=('cumulative_save_rate', 'mean'),\n",
    "            save_rate_std=('cumulative_save_rate', 'std'),\n",
    "            target_save_rate=('target_save_rate', 'max')\n",
    "            )\n",
    "    )\n",
    "\n",
    "    #reset index\n",
    "    df_grp = df_grp.reset_index()\n",
    "\n",
    "    #calculate range\n",
    "    df_grp['save_rate_max'] = df_grp['save_rate_mu'] + df_grp['save_rate_std']\n",
    "    df_grp['save_rate_min'] = df_grp['save_rate_mu'] - df_grp['save_rate_std']\n",
    "\n",
    "    #plot average and target rates\n",
    "    ax2.plot(df_grp[\"trial_id\"], df_grp[\"save_rate_mu\"], label='Avg. Save Rate', color=black)\n",
    "    ax2.plot(df_grp[\"trial_id\"], df_grp[\"target_save_rate\"], label='Target Save Rate', color=orange, linestyle=\"--\")\n",
    "\n",
    "    #shade between standard deviation\n",
    "    ax2.fill_between(df_grp[\"trial_id\"], df_grp[\"save_rate_min\"], df_grp[\"save_rate_max\"], color=gray, label='Std. Dev.')\n",
    "\n",
    "    #y should be betwee 0 and 1\n",
    "    ax2.set_ylim(0, 1.05) \n",
    "\n",
    "    #labels\n",
    "    # ax2.set_xlabel('Trial ID')\n",
    "    ax2.set_ylabel('Save Rate')\n",
    "    ax2.set_title('Average Cumulative Save Rate over Trials', fontsize=10, loc='left')\n",
    "    ax2.legend(fontsize=8)\n",
    "\n",
    "    # OPTIMAL RATE\n",
    "\n",
    "    #aggregate experiments\n",
    "    df_grp = (\n",
    "        df\n",
    "        .groupby('trial_id')\n",
    "        .agg(\n",
    "            optimal_rate_mu=('cumulative_optimal_rate', 'mean'),\n",
    "            optimal_rate_std=('cumulative_optimal_rate', 'std'),\n",
    "            target_optimal_rate=('target_optimal_rate', 'max')\n",
    "            )\n",
    "    )\n",
    "\n",
    "    #reset index\n",
    "    df_grp = df_grp.reset_index()\n",
    "\n",
    "    #calculate range\n",
    "    df_grp['optimal_rate_max'] = df_grp['optimal_rate_mu'] + df_grp['optimal_rate_std']\n",
    "    df_grp['optimal_rate_min'] = df_grp['optimal_rate_mu'] - df_grp['optimal_rate_std']\n",
    "\n",
    "    #plot average and target rates\n",
    "    ax3.plot(df_grp[\"trial_id\"], df_grp[\"optimal_rate_mu\"], label='Avg. Optimal Rate', color=black)\n",
    "    ax3.plot(df_grp[\"trial_id\"], df_grp[\"target_optimal_rate\"], label='Target Optimal Rate', color=orange, linestyle=\"--\")\n",
    "\n",
    "    #shade between standard deviation\n",
    "    ax3.fill_between(df_grp[\"trial_id\"], df_grp[\"optimal_rate_min\"], df_grp[\"optimal_rate_max\"], color=gray, label='Std. Dev.')\n",
    "\n",
    "    #y should be betwee 0 and 1\n",
    "    ax3.set_ylim(0, 1.05) \n",
    "\n",
    "    #labels\n",
    "    # ax3.set_xlabel('Trial ID')\n",
    "    ax3.set_ylabel('Optimal Rate')\n",
    "    ax3.set_title('Average Cumulative Optimal Rate over Trials', fontsize=10, loc='left')\n",
    "    ax3.legend(fontsize=8)\n",
    "\n",
    "    # P EST\n",
    "\n",
    "    #aggregate experiments\n",
    "    df_grp = (\n",
    "        df\n",
    "        .groupby('trial_id')\n",
    "        .agg(\n",
    "            Buffon_est_p_mu=('Buffon_est_p', 'mean'),\n",
    "            Buffon_est_p_std=('Buffon_est_p', 'std'),\n",
    "            Buffon_p=('Buffon_p', 'max'),\n",
    "            Casillas_est_p_mu=('Casillas_est_p', 'mean'),\n",
    "            Casillas_est_p_std=('Casillas_est_p', 'std'),\n",
    "            Casillas_p=('Casillas_p', 'max'),\n",
    "            Neuer_est_p_mu=('Neuer_est_p', 'mean'),\n",
    "            Neuer_est_p_std=('Neuer_est_p', 'std'),\n",
    "            Neuer_p=('Neuer_p', 'max'),\n",
    "            )\n",
    "    )\n",
    "\n",
    "    #reset index\n",
    "    df_grp = df_grp.reset_index()\n",
    "\n",
    "    #calculate range\n",
    "    df_grp['Buffon_p_max'] = df_grp['Buffon_est_p_mu'] + df_grp['Buffon_est_p_std']\n",
    "    df_grp['Buffon_p_min'] = df_grp['Buffon_est_p_mu'] - df_grp['Buffon_est_p_std']\n",
    "    df_grp['Casillas_p_max'] = df_grp['Casillas_est_p_mu'] + df_grp['Casillas_est_p_std']\n",
    "    df_grp['Casillas_p_min'] = df_grp['Casillas_est_p_mu'] - df_grp['Casillas_est_p_std']\n",
    "    df_grp['Neuer_p_max'] = df_grp['Neuer_est_p_mu'] + df_grp['Neuer_est_p_std']\n",
    "    df_grp['Neuer_p_min'] = df_grp['Neuer_est_p_mu'] - df_grp['Neuer_est_p_std']\n",
    "\n",
    "    #plot average and target rates\n",
    "    ax4.plot(df_grp[\"trial_id\"], df_grp[\"Buffon_est_p_mu\"], label='Avg. Buffon Estimated Save Rate', color=blue)\n",
    "    ax4.plot(df_grp[\"trial_id\"], df_grp[\"Buffon_p\"], label='Buffon True Save Rate', color=gray, linestyle=\"-.\")\n",
    "\n",
    "    #shade between standard deviation\n",
    "    ax4.fill_between(df_grp[\"trial_id\"], df_grp[\"Buffon_p_min\"], df_grp[\"Buffon_p_max\"], color=blue_shade, alpha=0.3, label='Buffon Std. Dev.')\n",
    "\n",
    "    #plot average and target rates\n",
    "    ax4.plot(df_grp[\"trial_id\"], df_grp[\"Casillas_est_p_mu\"], label='Avg. Casillas Estimated Save Rate', color=red)\n",
    "    ax4.plot(df_grp[\"trial_id\"], df_grp[\"Casillas_p\"], label='Casillas True Save Rate', color=gray, linestyle=\":\")\n",
    "\n",
    "    #shade between standard deviation\n",
    "    ax4.fill_between(df_grp[\"trial_id\"], df_grp[\"Casillas_p_min\"], df_grp[\"Casillas_p_max\"], color=red_shade, alpha=0.3, label='Casillas Std. Dev.')\n",
    "\n",
    "    #plot average and target rates\n",
    "    ax4.plot(df_grp[\"trial_id\"], df_grp[\"Neuer_est_p_mu\"], label='Avg. Neuer Estimated Save Rate', color=teal)\n",
    "    ax4.plot(df_grp[\"trial_id\"], df_grp[\"Neuer_p\"], label='Neuer True Save Rate', color=gray, linestyle=\"--\")\n",
    "\n",
    "    #shade between standard deviation\n",
    "    ax4.fill_between(df_grp[\"trial_id\"], df_grp[\"Neuer_p_min\"], df_grp[\"Neuer_p_max\"], color=teal_shade, alpha=0.3, label='Neuer Std. Dev.')\n",
    "\n",
    "    #set the y axis as max of upper limit for any goalkeeper\n",
    "    y_max = df_grp[['Buffon_p_max', 'Casillas_p_max', 'Neuer_p_max']].max().max() +0.05\n",
    "    ax4.set_ylim(0, y_max) \n",
    "\n",
    "    #labels\n",
    "    # ax4.set_xlabel('Trial ID')\n",
    "    ax4.set_ylabel('Save Rate')\n",
    "    ax4.set_title('Average Estimated Save Rates over Trials', fontsize=10, loc='left')\n",
    "    ax4.legend(fontsize=8, bbox_to_anchor=(1.02, 1), loc='upper left')\n",
    "\n",
    "    #TOP GOALKEEPER\n",
    "\n",
    "    #after each trial, count how many times we woulc pick each goalkeeper\n",
    "    df_grp = (\n",
    "        df\n",
    "        .groupby('trial_id')['top_goalkeeper']\n",
    "        .value_counts()\n",
    "        .unstack(fill_value=0)\n",
    "    )\n",
    "\n",
    "    #count number of experiments\n",
    "    df_grp['experiments'] = df_grp.sum(axis=1)\n",
    "\n",
    "    for gk in df['top_goalkeeper'].unique():\n",
    "        df_grp[gk+'_rate'] = df_grp[gk] / df_grp['experiments']\n",
    "\n",
    "    df_grp = df_grp.reset_index()\n",
    "\n",
    "    #plot average and target rates\n",
    "    ax5.plot(df_grp[\"trial_id\"], df_grp[\"Buffon_rate\"], label='Buffon', color=blue)\n",
    "    ax5.plot(df_grp[\"trial_id\"], df_grp[\"Casillas_rate\"], label='Casillas', color=red)\n",
    "    ax5.plot(df_grp[\"trial_id\"], df_grp[\"Neuer_rate\"], label='Neuer', color=teal)\n",
    "\n",
    "    #y should be betwee 0 and 1\n",
    "    ax5.set_ylim(0, 1) \n",
    "\n",
    "    #labels\n",
    "    ax5.set_xlabel('Trial ID')\n",
    "    ax5.set_ylabel('Rate Selected')\n",
    "    ax5.set_title('Selected Rate over Trials', fontsize=10, loc='left')\n",
    "    ax5.legend(fontsize=8)\n",
    "\n",
    "    # HEATMAP\n",
    "\n",
    "    # PREPARE DATAFRAME\n",
    "\n",
    "    #map gk_names to colors\n",
    "    colors = ['blue', 'red', 'teal']\n",
    "    color_map = {'Buffon': colors[0], 'Casillas': colors[1], 'Neuer': colors[2]}\n",
    "\n",
    "    #create df for heatmap. experiments are rows; columns are trials\n",
    "    experiment_ids = df['experiment_id'].unique()\n",
    "    trial_ids = df['trial_id'].unique()\n",
    "    heatmap_data = pd.DataFrame(index=experiment_ids, columns=trial_ids)\n",
    "\n",
    "    #fill heatmap using 'top_goalkeeper' column mapped to color\n",
    "    for index, row in df.iterrows():\n",
    "        goalkeeper = row['top_goalkeeper']\n",
    "        trial_id = row['trial_id']\n",
    "        experiment_id = row['experiment_id']\n",
    "        heatmap_data.loc[experiment_id, trial_id] = color_map[goalkeeper]\n",
    "\n",
    "    #convert colors to numeric values for heatmap\n",
    "    color_to_num = {color: i for i, color in enumerate(colors)}\n",
    "    heatmap_data_numeric = heatmap_data.replace(color_to_num)\n",
    "\n",
    "    # PLOTTING\n",
    "\n",
    "    sns.heatmap(heatmap_data_numeric, cmap=colors, cbar=False, ax=ax6)\n",
    "\n",
    "    #label every 10th experiment id\n",
    "    ax6.set_yticks(range(0, max(experiment_ids), 10))\n",
    "    ax6.set_yticklabels(range(0, max(experiment_ids), 10), rotation=0)\n",
    "    ax6.set_ylabel('Experiment ID')\n",
    "\n",
    "    #label every 100th trial id\n",
    "    ax6.set_xticks(range(0, max(trial_ids), 100))\n",
    "    ax6.set_xticklabels(range(0, max(trial_ids), 100), rotation=0)\n",
    "    ax6.set_xlabel('Trial ID')\n",
    "\n",
    "    #set title\n",
    "    ax6.set_title('Top Goalkeeper After Each Trial', fontsize=10, loc='left')\n",
    "    #add legend\n",
    "    handles = [plt.Rectangle((0,0),1,1, color=color_map[gk]) for gk in color_map]\n",
    "    ax6.legend(handles, color_map.keys(), title=\"Goalkeepers\", bbox_to_anchor=(1.02, 1), loc='upper left')\n",
    "\n",
    "    plt.show()"
   ]
  },
  {
   "cell_type": "markdown",
   "metadata": {
    "application/vnd.databricks.v1+cell": {
     "cellMetadata": {},
     "inputWidgets": {},
     "nuid": "513c10ce-93af-4e2e-8747-50a7a7951168",
     "showTitle": false,
     "title": ""
    }
   },
   "source": [
    "### Run Simulation"
   ]
  },
  {
   "cell_type": "code",
   "execution_count": 0,
   "metadata": {
    "application/vnd.databricks.v1+cell": {
     "cellMetadata": {
      "byteLimit": 2048000,
      "rowLimit": 10000
     },
     "inputWidgets": {},
     "nuid": "97b653cc-d0d1-4e93-b5cb-25f657ff53eb",
     "showTitle": false,
     "title": ""
    }
   },
   "outputs": [],
   "source": [
    "#set parameters for the simulation\n",
    "num_experiments = 100\n",
    "num_trials = 1000\n",
    "eps = 0.1\n",
    "gk_save_rates = [0.2, 0.25, 0.3]\n",
    "gk_names = ['Buffon', 'Casillas', 'Neuer']\n",
    "\n",
    "df_sim_eps = simulation(num_experiments,num_trials,eps,gk_save_rates,gk_names)\n",
    "\n",
    "#choose an experiment\n",
    "df_exp = df_sim_eps[df_sim_eps['experiment_id']==8]"
   ]
  },
  {
   "cell_type": "markdown",
   "metadata": {
    "application/vnd.databricks.v1+cell": {
     "cellMetadata": {},
     "inputWidgets": {},
     "nuid": "02bdfc72-72a6-4224-bba3-a66e4cea7000",
     "showTitle": false,
     "title": ""
    }
   },
   "source": [
    "The analyst runs his simulation with the following parameters:\n",
    "- We run each experiment for 1000 trials\n",
    "  - A \"trial\" is one shot\n",
    "- We simulate 100 experiments\n",
    "  - In real life, we will only do 1 experiment. Simulating 100 gives us a sense of how much we can trust the results from doing just one\n",
    "- Buffon has a save rate of 20%, Casillas 25%, and Neuer 30%.\n",
    "  - In real life, we won't know these beforehand, but setting them can guide our evaluation of our process\n",
    "  - We want our method to identify Neuer as the best goalkeeper as quickly as possible\n",
    "  - We also want our process to accurately predict the save rate of each goalkeeper "
   ]
  },
  {
   "cell_type": "markdown",
   "metadata": {
    "application/vnd.databricks.v1+cell": {
     "cellMetadata": {},
     "inputWidgets": {},
     "nuid": "9f29184b-ef94-4800-8c51-ef09d688cfa9",
     "showTitle": false,
     "title": ""
    }
   },
   "source": [
    "The coach and the analyst sit down to go over the results. The analyst starts by breaking down what happened in a single experiment."
   ]
  },
  {
   "cell_type": "markdown",
   "metadata": {
    "application/vnd.databricks.v1+cell": {
     "cellMetadata": {},
     "inputWidgets": {},
     "nuid": "934713e4-e0c1-4d4e-ae0b-ee7b04b9dbdc",
     "showTitle": false,
     "title": ""
    }
   },
   "source": [
    "## Results"
   ]
  },
  {
   "cell_type": "markdown",
   "metadata": {
    "application/vnd.databricks.v1+cell": {
     "cellMetadata": {},
     "inputWidgets": {},
     "nuid": "8a96764a-3626-4fc7-adc7-10340c7108bd",
     "showTitle": false,
     "title": ""
    }
   },
   "source": [
    "### Experimental Results"
   ]
  },
  {
   "cell_type": "markdown",
   "metadata": {
    "application/vnd.databricks.v1+cell": {
     "cellMetadata": {},
     "inputWidgets": {},
     "nuid": "b468bf67-1d4d-4830-9766-95cf001c48f1",
     "showTitle": false,
     "title": ""
    }
   },
   "source": [
    "This first chart shows the *exploit rate* over time. Remember, 10% of the time we *explore* by selecting a goalkeeper at random to face the shot. The other 90% of the time we *exploit* and have the goalkeeper with the best estimated save rate face the shot.  \n",
    "\n",
    "We can see that throughout our experiment, our exploit rate stayed very close to the expected 90%"
   ]
  },
  {
   "cell_type": "code",
   "execution_count": 0,
   "metadata": {
    "application/vnd.databricks.v1+cell": {
     "cellMetadata": {
      "byteLimit": 2048000,
      "rowLimit": 10000
     },
     "inputWidgets": {},
     "nuid": "de987ed0-e0f6-455e-9a25-d4504e05ce01",
     "showTitle": false,
     "title": ""
    }
   },
   "outputs": [],
   "source": [
    "plot_exploit_rate_experiment(df_exp)"
   ]
  },
  {
   "cell_type": "markdown",
   "metadata": {
    "application/vnd.databricks.v1+cell": {
     "cellMetadata": {},
     "inputWidgets": {},
     "nuid": "5563aa8a-f0ca-4034-b992-3073851ec5e0",
     "showTitle": false,
     "title": ""
    }
   },
   "source": [
    "Next, we chart our save rate over time. Our *save rate* is the percent of times we have saved the shot _regardless of which goalkeeper faced the shot_. \n",
    "\n",
    "Our target here is 30% - the highest save rate among all the goalkeepers. If Neuer, our best goalkeeper, faced every shot, we would expect a save rate of about 30%. \n",
    "\n",
    "We can see that the longer the experiment goes on, the close we get to our target. This suggests that throughout the experiment we get better at identifying who the best goalkeeper is and selecting them to face the next shot when we exploit. We do, however, explore throughout the entire experiment, so with this method we would not expect to ever achieve a 30% save rate."
   ]
  },
  {
   "cell_type": "code",
   "execution_count": 0,
   "metadata": {
    "application/vnd.databricks.v1+cell": {
     "cellMetadata": {
      "byteLimit": 2048000,
      "rowLimit": 10000
     },
     "inputWidgets": {},
     "nuid": "d5c455ef-9caf-4769-ae49-a39264482f34",
     "showTitle": false,
     "title": ""
    }
   },
   "outputs": [],
   "source": [
    "plot_save_rate_experiment(df_exp)"
   ]
  },
  {
   "cell_type": "markdown",
   "metadata": {
    "application/vnd.databricks.v1+cell": {
     "cellMetadata": {},
     "inputWidgets": {},
     "nuid": "2db7680e-be97-43dd-8049-a4df17a133a8",
     "showTitle": false,
     "title": ""
    }
   },
   "source": [
    "Remember that Neuer is our best goalkeeper. This chart shows the percent of shots that Neuer faces throughout the experiement.\n",
    "\n",
    "Ideally, we would want our best goalkeeper to face every shot, so the target here is 100%. \n",
    "\n",
    "We can see that for the first 400 shots, we only choose Neuer about 10% of the time. This suggests we thought a different goalkeeper was superior and when we *exploited* we did not choose Neuer. After about 400 kicks, however, we correctly identified him and began having him face more shots. "
   ]
  },
  {
   "cell_type": "code",
   "execution_count": 0,
   "metadata": {
    "application/vnd.databricks.v1+cell": {
     "cellMetadata": {
      "byteLimit": 2048000,
      "rowLimit": 10000
     },
     "inputWidgets": {},
     "nuid": "fc6f627a-599a-44c3-8ae3-1d1631c3b043",
     "showTitle": false,
     "title": ""
    }
   },
   "outputs": [],
   "source": [
    "plot_optimal_rate_experiment(df_exp)"
   ]
  },
  {
   "cell_type": "markdown",
   "metadata": {
    "application/vnd.databricks.v1+cell": {
     "cellMetadata": {},
     "inputWidgets": {},
     "nuid": "e58bb443-a903-40a6-9b68-8c596cfeac01",
     "showTitle": false,
     "title": ""
    }
   },
   "source": [
    "This chart shows the true save rate and estimated save rate for each goalkeeper over time. The dashed lines are the true rates and the sold lines are our estimates.\n",
    "\n",
    "In this experiment, we can see that Buffon made a save early on while the others were scored on. This led us to believe Buffon had the best rate and have him face more shots. \n",
    "\n",
    "Casillas then made a couple saves around 75 shots in. This led us to believe he was the best goalkeeper. He, however, failed to save subsequent shots and his estimate dropped back below Buffon. \n",
    "\n",
    "Since we suspected Buffon and Casillas of better save rates, we actually selected Neuer so few times that he does not save a shot until the 200th shot of the experiment. With more shots, however, we see his estimated save rate climb. By the 400th shot of the experiement, his estimated save rate is above the other two goalkeepers. We continue to have him face more and more shots and his estimated save rate converges to his true 30% mark. \n"
   ]
  },
  {
   "cell_type": "code",
   "execution_count": 0,
   "metadata": {
    "application/vnd.databricks.v1+cell": {
     "cellMetadata": {
      "byteLimit": 2048000,
      "rowLimit": 10000
     },
     "inputWidgets": {},
     "nuid": "faa20c52-52b7-4738-b4ba-1fba57888131",
     "showTitle": false,
     "title": ""
    }
   },
   "outputs": [],
   "source": [
    "plot_p_est_experiment(df_exp)"
   ]
  },
  {
   "cell_type": "markdown",
   "metadata": {
    "application/vnd.databricks.v1+cell": {
     "cellMetadata": {},
     "inputWidgets": {},
     "nuid": "ba6bf7d2-08ab-4113-aeab-46e715a32998",
     "showTitle": false,
     "title": ""
    }
   },
   "source": [
    "This final chart shows who we thought was the best goalkeeper after each shot. So for example, if we had stopped our experiement after 10 trials, the bar is blue and we would have chosen Buffon as our top goalkeeper. If we had stopped after 320 trials, the bar is red and we would have selected Casillas as our best goalkeeper. After 500 trials, the bar is teal, and we would have selected Neuer."
   ]
  },
  {
   "cell_type": "code",
   "execution_count": 0,
   "metadata": {
    "application/vnd.databricks.v1+cell": {
     "cellMetadata": {
      "byteLimit": 2048000,
      "rowLimit": 10000
     },
     "inputWidgets": {},
     "nuid": "14414a10-30df-43d7-b883-cf32ca60fd6e",
     "showTitle": false,
     "title": ""
    }
   },
   "outputs": [],
   "source": [
    "plot_top_goalkeeper_experiment(df_exp)"
   ]
  },
  {
   "cell_type": "markdown",
   "metadata": {
    "application/vnd.databricks.v1+cell": {
     "cellMetadata": {},
     "inputWidgets": {},
     "nuid": "4c746e51-027d-4319-8fc1-9304630a5428",
     "showTitle": false,
     "title": ""
    }
   },
   "source": [
    "### Simulation Results"
   ]
  },
  {
   "cell_type": "markdown",
   "metadata": {
    "application/vnd.databricks.v1+cell": {
     "cellMetadata": {},
     "inputWidgets": {},
     "nuid": "960c6047-584a-4fa2-b88d-7258ff65db9f",
     "showTitle": false,
     "title": ""
    }
   },
   "source": [
    "The above results were for one experiment and mimic what we will do in real life. Remember, though, that we did a simulation of 100 experiments. We can aggregate the results off all those experiments to estimate what a likely outcome for our real-life experiment will be.\n",
    "\n",
    "We consolidate all the charts into a single graphic to summarize the whole simulation. Each chart is an extension of one above.\n",
    "\n",
    "- The chart in the top left plots the **exploit rate**. Similar to the exploit rate chart for a single experiment, the target is still in orange at 90%. In this case, the black line is the _average exploit rate_ after the given _trial_id (shot)_ across _all 100 experiments_. The gray shading represents one standard deviation above and below the average.\n",
    "- The chart in the top right plots the **save rate**. The orange is the target, the black is the average across all experiments, and the gray shading is a standard deviation above and below the average.\n",
    "- The chat in the middle left plots the **optimal rate**. The orange is the target, the black is the average across all experiments, and the gray shading is a standard deviation above and below the average.\n",
    "- The chart in the middle right plots the **estimated save rate for each goalkeeper**. Each dashed gray line represents the true save rate for one of the goalkeepers. The solid colored lines show the average estimated save rate across all experiments for each goalkeeper. The shading shows one standard deviation above and below the average for each goalkeeper.\n",
    "- The chart in the bottom right (I know I'm going out of order but you'll see why when you keep reading) plots the **selected goalkeeper** after each trial for each experiment. Each row is one experiment and each column is a trial. The color indicates which goalkeeper we suspect has the best save rate after each trial\n",
    "- The chart in the bottom left is a new chart and a derivative of the chart in the bottom right. The chart shows the _percent of experiments_ in which we would have chosen each goalkeeper after each trial.\n",
    "    - For example, if we would have stopped each experiment in our simulation after 200 trials, we would have selected Buffon as our best goalkeeper in about 20% of experiments, Casillas as our best goalkeeper in about 25% of experiments, and Neuer as our best goalkeeper in about 55% of experiments."
   ]
  },
  {
   "cell_type": "code",
   "execution_count": 0,
   "metadata": {
    "application/vnd.databricks.v1+cell": {
     "cellMetadata": {
      "byteLimit": 2048000,
      "rowLimit": 10000
     },
     "inputWidgets": {},
     "nuid": "93987197-bb12-4b33-9f9e-ebd7244be5af",
     "showTitle": false,
     "title": ""
    }
   },
   "outputs": [],
   "source": [
    "plot_simulation_summary(df_sim_eps, title='Epsilon Greedy Summary')"
   ]
  },
  {
   "cell_type": "markdown",
   "metadata": {
    "application/vnd.databricks.v1+cell": {
     "cellMetadata": {},
     "inputWidgets": {},
     "nuid": "6672bc3c-780a-4ca7-b996-91b83f593c15",
     "showTitle": false,
     "title": ""
    }
   },
   "source": [
    "## Conclusion"
   ]
  },
  {
   "cell_type": "markdown",
   "metadata": {
    "application/vnd.databricks.v1+cell": {
     "cellMetadata": {},
     "inputWidgets": {},
     "nuid": "8b60ce94-d5ee-4d05-bfab-4888a420ca8b",
     "showTitle": false,
     "title": ""
    }
   },
   "source": [
    "The coach feels much better about this approach than the previous. Whereas the first method called for taking 4000 shots with an unsure outcome, this second method gives her some expectations. \n",
    "\n",
    "Assuming the save rates are different, but within 10%, she can expect that an experiment that is 1000 shots long will tell her the best goalkeeper about 80% of the time. An experiment 500 shots long will correctly tell her the best goalkeeper 60% of the time. "
   ]
  },
  {
   "cell_type": "markdown",
   "metadata": {
    "application/vnd.databricks.v1+cell": {
     "cellMetadata": {},
     "inputWidgets": {},
     "nuid": "bfd50ee6-2ecb-40d0-b3c6-ac18249f551c",
     "showTitle": false,
     "title": ""
    }
   },
   "source": [
    "Before the coach goes ahead with the experiment, the analyst has one caveat: _the results are highly dependent on the order we select the goalkeepers._ In the above simulation, in the case of a tie for estimated save rate, we choose Buffon. The analyst has run two other simulations, one with Casillas breaking the tie and one with Neuer."
   ]
  },
  {
   "cell_type": "code",
   "execution_count": 0,
   "metadata": {
    "application/vnd.databricks.v1+cell": {
     "cellMetadata": {
      "byteLimit": 2048000,
      "rowLimit": 10000
     },
     "inputWidgets": {},
     "nuid": "fa6b852d-eded-44b8-b65b-ebf7c661b80e",
     "showTitle": false,
     "title": ""
    }
   },
   "outputs": [],
   "source": [
    "#do two more simulations in a different order\n",
    "gk_save_rates = [0.25, 0.3, 0.2]\n",
    "gk_names = ['Casillas', 'Neuer', 'Buffon']\n",
    "df_sim_eps_2 = simulation(num_experiments,num_trials,eps,gk_save_rates,gk_names)\n",
    "\n",
    "gk_save_rates = [0.3, 0.2, 0.25]\n",
    "gk_names = ['Neuer', 'Buffon','Casillas']\n",
    "df_sim_eps_3 = simulation(num_experiments,num_trials,eps,gk_save_rates,gk_names)"
   ]
  },
  {
   "cell_type": "code",
   "execution_count": 0,
   "metadata": {
    "application/vnd.databricks.v1+cell": {
     "cellMetadata": {
      "byteLimit": 2048000,
      "rowLimit": 10000
     },
     "inputWidgets": {},
     "nuid": "8c4ca8bf-1e22-428c-ac7d-52b8aba247c5",
     "showTitle": false,
     "title": ""
    }
   },
   "outputs": [],
   "source": [
    "plot_top_goalkeeper_rate_simulation(df_sim_eps, 'Buffon Breaking Tie')"
   ]
  },
  {
   "cell_type": "code",
   "execution_count": 0,
   "metadata": {
    "application/vnd.databricks.v1+cell": {
     "cellMetadata": {
      "byteLimit": 2048000,
      "rowLimit": 10000
     },
     "inputWidgets": {},
     "nuid": "ed14f8b6-8d25-48ec-9fa4-c3b45687bd9d",
     "showTitle": false,
     "title": ""
    }
   },
   "outputs": [],
   "source": [
    "plot_top_goalkeeper_rate_simulation(df_sim_eps_2, 'Casillas Breaking Tie')"
   ]
  },
  {
   "cell_type": "code",
   "execution_count": 0,
   "metadata": {
    "application/vnd.databricks.v1+cell": {
     "cellMetadata": {
      "byteLimit": 2048000,
      "rowLimit": 10000
     },
     "inputWidgets": {},
     "nuid": "0516afb7-53c8-4c81-bbfe-87e102ece567",
     "showTitle": false,
     "title": ""
    }
   },
   "outputs": [],
   "source": [
    "plot_top_goalkeeper_rate_simulation(df_sim_eps_3, 'Neuer Breaking Tie')"
   ]
  },
  {
   "cell_type": "markdown",
   "metadata": {
    "application/vnd.databricks.v1+cell": {
     "cellMetadata": {},
     "inputWidgets": {},
     "nuid": "964d3140-8f6b-4bab-88f3-e674896eb3ad",
     "showTitle": false,
     "title": ""
    }
   },
   "source": [
    "The results vary quite widely. The coach is much less enthused now with the approach. She will not know beforehand the true save rate of each goalkeeper and thus will not be able to choose a good order. \n",
    "\n",
    "The analyst suggests that we need to _explore_ more in the beginning of the experiment to establish some baseline save rates for each goalkeeper. That should make later results where we _exploit_ by choosing the best goalkeeper more stable.\n",
    "\n",
    "There are a few ways to approach this. One would be changing the _epsilon_, or the rate at which we explore. We could make this higher, or we could use an epsilon that _decays_, meaning we would explore more at the beginning of the experiment and less at the end.\n",
    "\n",
    "The analyst, however, has a different approach in mind..."
   ]
  },
  {
   "cell_type": "markdown",
   "metadata": {
    "application/vnd.databricks.v1+cell": {
     "cellMetadata": {},
     "inputWidgets": {},
     "nuid": "c03ebd1e-387f-4ac6-abe5-7a0c98fbaa0c",
     "showTitle": false,
     "title": ""
    }
   },
   "source": [
    "# Approach 3: Optimistic Initial Values"
   ]
  },
  {
   "cell_type": "markdown",
   "metadata": {
    "application/vnd.databricks.v1+cell": {
     "cellMetadata": {},
     "inputWidgets": {},
     "nuid": "7683b35a-a479-4f6c-b57f-9c945dc6e184",
     "showTitle": false,
     "title": ""
    }
   },
   "source": [
    "The analyst proposes this modified experiment.\n",
    "\n",
    "> Assume all goalkeepers have an impossibly high save rate (5, for example). For each shot, choose the goalkeeper with the highest estimated save rate to face the next shot.\n",
    "- This forces the algorithm to explore early on. Even if the first goalkeeper saves the first shot (save rate = 1), their estimated save rate will fall from the initial estimate of 5. We will then select a different goalkeeper to face the next shot\n",
    "- The higher the initial estimated save rate, the more we will explore early on "
   ]
  },
  {
   "cell_type": "markdown",
   "metadata": {
    "application/vnd.databricks.v1+cell": {
     "cellMetadata": {},
     "inputWidgets": {},
     "nuid": "4a8be05f-8eb4-4f7e-9d1f-3e8d7a6d1ac1",
     "showTitle": false,
     "title": ""
    }
   },
   "source": [
    "## Simulation"
   ]
  },
  {
   "cell_type": "markdown",
   "metadata": {
    "application/vnd.databricks.v1+cell": {
     "cellMetadata": {},
     "inputWidgets": {},
     "nuid": "8db1ef38-d819-43c6-9ebb-57241ce4559d",
     "showTitle": false,
     "title": ""
    }
   },
   "source": [
    "### Code for Simulation"
   ]
  },
  {
   "cell_type": "code",
   "execution_count": 0,
   "metadata": {
    "application/vnd.databricks.v1+cell": {
     "cellMetadata": {
      "byteLimit": 2048000,
      "rowLimit": 10000
     },
     "collapsed": true,
     "inputWidgets": {},
     "nuid": "a5d96f90-59a6-4336-a414-40798c317d82",
     "showTitle": false,
     "title": ""
    }
   },
   "outputs": [],
   "source": [
    "#set up a class to model each goalkeeper\n",
    "class Goalkeeper_ov:\n",
    "    def __init__(self, p, name):\n",
    "        self.p = p #p is the true save rate\n",
    "        self.p_estimate = 5 #start with an estimate of 5 that will come down\n",
    "        self.N = 1 #samples collected so far, keeps initial estimate\n",
    "        self.name = name #assign name to goalkeeper\n",
    "\n",
    "    def face_shot(self):\n",
    "        #save the shot with probability p\n",
    "        return np.random.random() < self.p\n",
    "    \n",
    "    def update(self, x):\n",
    "        #x is 0 or 1\n",
    "        self.N += 1 #record the faced shot\n",
    "        self.p_estimate = ((self.N - 1)*self.p_estimate + x) / self.N #update our estimate of p"
   ]
  },
  {
   "cell_type": "code",
   "execution_count": 0,
   "metadata": {
    "application/vnd.databricks.v1+cell": {
     "cellMetadata": {
      "byteLimit": 2048000,
      "rowLimit": 10000
     },
     "collapsed": true,
     "inputWidgets": {},
     "nuid": "cb0ab253-5e06-4934-8553-480ee8692c4c",
     "showTitle": false,
     "title": ""
    }
   },
   "outputs": [],
   "source": [
    "def experiment_ov(num_trials, gk_save_rates, gk_names):\n",
    "    \"\"\"\n",
    "    Run an optimistic values experiment\n",
    "\n",
    "    num_trials (int): the number of trials in the experiment\n",
    "    gk_save_rates (list of floats): the true save rates of each goalkeeper\n",
    "    gk_names (list of strings): the names of each goalkeeper (must be same order as rates)\n",
    "\n",
    "    df (dataframe): the results of the experiment \n",
    "    \"\"\"\n",
    "\n",
    "    #get a list of all goalkeepers\n",
    "    gks = [Goalkeeper_ov(p, name) for p, name in zip(gk_save_rates, gk_names)]\n",
    "\n",
    "    #initialize results\n",
    "    trial_ids = []\n",
    "    exploit_results = []\n",
    "    gk_results = []\n",
    "    save_results = []\n",
    "    p_est_results = []\n",
    "    chosen_results = []\n",
    "     \n",
    "    #For each trial in the experiment, we exploit, select gk, and face the shot\n",
    "    for i in range(num_trials):\n",
    "        #SELECT GK\n",
    "        trial_ids.append(i+1) #record trial id\n",
    "\n",
    "        exploit_results.append(True) #recrod exploit\n",
    "        gk_selected = np.argmax([gk.p_estimate for gk in gks]) #choose gk with current best rate\n",
    "        gk_results.append(gks[gk_selected].name) #record which gk we selected\n",
    "\n",
    "        #FACE THE SHOT\n",
    "\n",
    "        #face the shot. 1 if a save, 0 if a goal\n",
    "        save = gks[gk_selected].face_shot()\n",
    "        #udpate results array\n",
    "        save_results.append(save)\n",
    "        #update the estimate of gk save rate\n",
    "        gks[gk_selected].update(save)\n",
    "        #record estimates\n",
    "        p_est_results.append([gk.p_estimate for gk in gks])\n",
    "        #record chosen gk after this trial\n",
    "        chosen_results.append(gks[np.argmax([gk.p_estimate for gk in gks])].name)\n",
    "\n",
    "    #determine array of optimal choice\n",
    "    opt = gks[np.argmax([gk.p for gk in gks])].name #optimal gk\n",
    "    opt_results = [g == opt for g in gk_results]\n",
    "    \n",
    "    #compile results in a dataframe\n",
    "    df = pd.DataFrame({\n",
    "        **{\n",
    "            'trial_id': trial_ids,\n",
    "            'exploit': exploit_results,\n",
    "            'goalkeeper': gk_results,\n",
    "            'optimal_goalkeeper': opt_results,\n",
    "            'save': save_results,\n",
    "            },\n",
    "        **{gks[i].name+'_est_p': [x[i] for x in p_est_results] for i in range(len(gks))},\n",
    "        **{\n",
    "            'top_goalkeeper': chosen_results,\n",
    "            }\n",
    "        }\n",
    "                      )\n",
    "    \n",
    "    #add true save rates\n",
    "    for g in gks:\n",
    "        df[g.name+'_p'] = g.p\n",
    "    \n",
    "    #Add cumulative results\n",
    "    df['cumulative_exploit'] = df['exploit'].cumsum()\n",
    "    df['cumulative_exploit_rate'] = df['cumulative_exploit'] / df['trial_id']\n",
    "    df['target_exploit_rate'] = 1\n",
    "    df['cumulative_optimal_goalkeeper'] = df['optimal_goalkeeper'].cumsum()\n",
    "    df['cumulative_optimal_rate'] = df['cumulative_optimal_goalkeeper'] / df['trial_id']\n",
    "    df['target_optimal_rate'] = 1\n",
    "    df['cumulative_saves'] = df['save'].cumsum()\n",
    "    df['cumulative_save_rate'] = df['cumulative_saves'] / df['trial_id']\n",
    "    df['target_save_rate'] = np.max([gk.p for gk in gks])\n",
    "    \n",
    "    #record parameters\n",
    "    df['num_trials'] = num_trials\n",
    "    \n",
    "    return df"
   ]
  },
  {
   "cell_type": "code",
   "execution_count": 0,
   "metadata": {
    "application/vnd.databricks.v1+cell": {
     "cellMetadata": {
      "byteLimit": 2048000,
      "rowLimit": 10000
     },
     "collapsed": true,
     "inputWidgets": {},
     "nuid": "46905f37-5b12-41cb-9b53-e325a7cc329f",
     "showTitle": false,
     "title": ""
    }
   },
   "outputs": [],
   "source": [
    "def simulation_ov(num_experiments, num_trials, gk_save_rates, gk_names):\n",
    "    \"\"\"\n",
    "    Run a simulation of optimistic values experiments\n",
    "\n",
    "    num_experiments (int): the number of experiments in the simulation\n",
    "    num_trials (int): the number of trials per experiment\n",
    "    gk_save_rates (list of floats): the true save rates of each goalkeeper\n",
    "    gk_names (list of strings): the names of each goalkeeper (must be same order as rates)\n",
    "\n",
    "    sim_df (dataframe): the results of the simulation \n",
    "    \"\"\"\n",
    "\n",
    "    #initialize df\n",
    "    i = 1\n",
    "    np.random.seed(i) #set seed\n",
    "    sim_df = experiment_ov(num_trials, gk_save_rates, gk_names)\n",
    "    sim_df['experiment_id'] = i\n",
    "\n",
    "    #iterate through other trials\n",
    "    for i in range(1, num_experiments):\n",
    "        np.random.seed(i+1)  #set seed\n",
    "        df = experiment_ov(num_trials, gk_save_rates, gk_names)\n",
    "        df['experiment_id'] = i+1\n",
    "        sim_df = pd.concat([sim_df, df])\n",
    "\n",
    "    return sim_df\n"
   ]
  },
  {
   "cell_type": "markdown",
   "metadata": {
    "application/vnd.databricks.v1+cell": {
     "cellMetadata": {},
     "inputWidgets": {},
     "nuid": "c7f4f905-6217-40b3-ad40-c02348b3aa2f",
     "showTitle": false,
     "title": ""
    }
   },
   "source": [
    "### Run Simulation"
   ]
  },
  {
   "cell_type": "code",
   "execution_count": 0,
   "metadata": {
    "application/vnd.databricks.v1+cell": {
     "cellMetadata": {
      "byteLimit": 2048000,
      "rowLimit": 10000
     },
     "inputWidgets": {},
     "nuid": "9cfd2ec5-0bf9-46cd-836a-95ff4fe2da34",
     "showTitle": false,
     "title": ""
    }
   },
   "outputs": [],
   "source": [
    "#set parameters for the simulation\n",
    "num_experiments = 100\n",
    "num_trials = 1000\n",
    "gk_save_rates = [0.2, 0.25, 0.3]\n",
    "gk_names = ['Buffon', 'Casillas', 'Neuer']\n",
    "\n",
    "df_sim_ov = simulation_ov(num_experiments,num_trials,gk_save_rates,gk_names)\n",
    "\n",
    "\n",
    "#do two more simulations in a different order\n",
    "gk_save_rates = [0.25, 0.3, 0.2]\n",
    "gk_names = ['Casillas', 'Neuer', 'Buffon']\n",
    "df_sim_ov_2 = simulation_ov(num_experiments,num_trials,gk_save_rates,gk_names)\n",
    "\n",
    "gk_save_rates = [0.3, 0.2, 0.25]\n",
    "gk_names = ['Neuer', 'Buffon','Casillas']\n",
    "df_sim_ov_3 = simulation_ov(num_experiments,num_trials,gk_save_rates,gk_names)"
   ]
  },
  {
   "cell_type": "markdown",
   "metadata": {
    "application/vnd.databricks.v1+cell": {
     "cellMetadata": {},
     "inputWidgets": {},
     "nuid": "cf5a9cdb-5c0a-4a2b-a9d3-6714eb9ffd4b",
     "showTitle": false,
     "title": ""
    }
   },
   "source": [
    "## Results"
   ]
  },
  {
   "cell_type": "markdown",
   "metadata": {
    "application/vnd.databricks.v1+cell": {
     "cellMetadata": {},
     "inputWidgets": {},
     "nuid": "25721bf5-9971-4d8b-96e9-77c80c898943",
     "showTitle": false,
     "title": ""
    }
   },
   "source": [
    "The analyst finds some notable results in the new approach:\n",
    "\n",
    "- The chart in the top left shows we are no longer using epsilon to explore\n",
    "- The chart if the top right shows we get much closer to our target true save rate with this method.\n",
    "- The chart in the middle right shows the estimated save rates starting at 5 and coming down to the true save rates.\n",
    "  - Here, though, we see that the rates for Casillas and Buffon do not converge to their true rates. Instead, as soon as the estimates drop below Neuer, that stay constant since we no longer exlore those goalkeepers.\n"
   ]
  },
  {
   "cell_type": "code",
   "execution_count": 0,
   "metadata": {
    "application/vnd.databricks.v1+cell": {
     "cellMetadata": {
      "byteLimit": 2048000,
      "rowLimit": 10000
     },
     "inputWidgets": {},
     "nuid": "52f59a97-a2fc-4d4b-b924-88db1f7f0277",
     "showTitle": false,
     "title": ""
    }
   },
   "outputs": [],
   "source": [
    "plot_simulation_summary(df_sim_ov, 'Optimistic Values Summary')"
   ]
  },
  {
   "cell_type": "markdown",
   "metadata": {
    "application/vnd.databricks.v1+cell": {
     "cellMetadata": {},
     "inputWidgets": {},
     "nuid": "9f4b8652-6760-488f-9e2d-f6d901b8f13f",
     "showTitle": false,
     "title": ""
    }
   },
   "source": [
    "### Optimal Rate\n",
    "Let's do a deep dive on the optimal rate chart (middle left above)."
   ]
  },
  {
   "cell_type": "markdown",
   "metadata": {
    "application/vnd.databricks.v1+cell": {
     "cellMetadata": {},
     "inputWidgets": {},
     "nuid": "f80c3b9f-4c13-48d1-adbe-c6cce02968d8",
     "showTitle": false,
     "title": ""
    }
   },
   "source": [
    "- With the optimistic values approach, we begin selecting the correct goalkeepr much quicker.\n",
    "  - With the epsilon greedy approach, it takes about 200 trials to select the correct goalkeeper 40% of the time. By contrast, it takes about 50 trials with the optimistic values approach\n",
    "- Our uncertainty using the second method is much smaller, meaning we can be much more confident in our estimate using the second approach."
   ]
  },
  {
   "cell_type": "code",
   "execution_count": 0,
   "metadata": {
    "application/vnd.databricks.v1+cell": {
     "cellMetadata": {
      "byteLimit": 2048000,
      "rowLimit": 10000
     },
     "inputWidgets": {},
     "nuid": "79e41db9-becd-41ef-8bbe-ec18d39c04be",
     "showTitle": false,
     "title": ""
    }
   },
   "outputs": [],
   "source": [
    "plot_optimal_rate_simulation(df_sim_eps, 'Epsilon Greedy')"
   ]
  },
  {
   "cell_type": "code",
   "execution_count": 0,
   "metadata": {
    "application/vnd.databricks.v1+cell": {
     "cellMetadata": {
      "byteLimit": 2048000,
      "rowLimit": 10000
     },
     "inputWidgets": {},
     "nuid": "f364fadd-b1fc-4c0b-9152-dc43520bb65c",
     "showTitle": false,
     "title": ""
    }
   },
   "outputs": [],
   "source": [
    "plot_optimal_rate_simulation(df_sim_ov, 'Optimistic Values')"
   ]
  },
  {
   "cell_type": "markdown",
   "metadata": {
    "application/vnd.databricks.v1+cell": {
     "cellMetadata": {},
     "inputWidgets": {},
     "nuid": "eef67eb0-7b4a-4f3c-8855-ffcf146a84ca",
     "showTitle": false,
     "title": ""
    }
   },
   "source": [
    "### Order Issue\n",
    "Now, let's check if we still get varied results when changing the order of the goalkeepers"
   ]
  },
  {
   "cell_type": "code",
   "execution_count": 0,
   "metadata": {
    "application/vnd.databricks.v1+cell": {
     "cellMetadata": {
      "byteLimit": 2048000,
      "rowLimit": 10000
     },
     "inputWidgets": {},
     "nuid": "f6c013a5-067a-4ee4-bad1-754f5c8924a2",
     "showTitle": false,
     "title": ""
    }
   },
   "outputs": [],
   "source": [
    "plot_top_goalkeeper_rate_simulation(df_sim_ov, 'Buffon Breaking Tie')"
   ]
  },
  {
   "cell_type": "code",
   "execution_count": 0,
   "metadata": {
    "application/vnd.databricks.v1+cell": {
     "cellMetadata": {
      "byteLimit": 2048000,
      "rowLimit": 10000
     },
     "inputWidgets": {},
     "nuid": "c23408ea-3db8-4515-8d7d-29f7a02829ce",
     "showTitle": false,
     "title": ""
    }
   },
   "outputs": [],
   "source": [
    "plot_top_goalkeeper_rate_simulation(df_sim_ov_2, 'Casillas Breaking Tie')"
   ]
  },
  {
   "cell_type": "code",
   "execution_count": 0,
   "metadata": {
    "application/vnd.databricks.v1+cell": {
     "cellMetadata": {
      "byteLimit": 2048000,
      "rowLimit": 10000
     },
     "inputWidgets": {},
     "nuid": "c3d28439-ad89-4f06-a0d0-4ea3573d2e47",
     "showTitle": false,
     "title": ""
    }
   },
   "outputs": [],
   "source": [
    "plot_top_goalkeeper_rate_simulation(df_sim_ov_3, 'Neuer Breaking Tie')"
   ]
  },
  {
   "cell_type": "markdown",
   "metadata": {
    "application/vnd.databricks.v1+cell": {
     "cellMetadata": {},
     "inputWidgets": {},
     "nuid": "25b5bc87-59c7-4f94-94e9-a564bc98f339",
     "showTitle": false,
     "title": ""
    }
   },
   "source": [
    "While there is slight variation, we can see that our results are independent of the order we put the goalkeepers in. This method solved our issue!"
   ]
  },
  {
   "cell_type": "markdown",
   "metadata": {
    "application/vnd.databricks.v1+cell": {
     "cellMetadata": {},
     "inputWidgets": {},
     "nuid": "f31fcaae-ce38-4393-a3d1-5d1da813e671",
     "showTitle": false,
     "title": ""
    }
   },
   "source": [
    "## Conclusion\n",
    "Is this new method solving our use case of selecting the base goalkeeper?"
   ]
  },
  {
   "cell_type": "markdown",
   "metadata": {
    "application/vnd.databricks.v1+cell": {
     "cellMetadata": {},
     "inputWidgets": {},
     "nuid": "ab2dc1f3-8757-45bd-a05d-f6279eaf8805",
     "showTitle": false,
     "title": ""
    }
   },
   "source": [
    "In the Epsilon Greedy Method, after taking 500 shots we, on average, selected Neuer as our best goakeeper 60% of the time. \n",
    "\n",
    "Using the Optimistic Values Method, we, on average, identify Neuer correctly 80% of the time after 500 shots. This is a significant improvement."
   ]
  },
  {
   "cell_type": "code",
   "execution_count": 0,
   "metadata": {
    "application/vnd.databricks.v1+cell": {
     "cellMetadata": {
      "byteLimit": 2048000,
      "rowLimit": 10000
     },
     "inputWidgets": {},
     "nuid": "ec27306d-59dd-4a03-8204-60fd7e6e1b23",
     "showTitle": false,
     "title": ""
    }
   },
   "outputs": [],
   "source": [
    "plot_top_goalkeeper_rate_simulation(df_sim_eps, 'Epsilon Greedy')"
   ]
  },
  {
   "cell_type": "code",
   "execution_count": 0,
   "metadata": {
    "application/vnd.databricks.v1+cell": {
     "cellMetadata": {
      "byteLimit": 2048000,
      "rowLimit": 10000
     },
     "inputWidgets": {},
     "nuid": "798b0b46-029a-4c77-a577-69c2cf67a6c1",
     "showTitle": false,
     "title": ""
    }
   },
   "outputs": [],
   "source": [
    "plot_top_goalkeeper_rate_simulation(df_sim_ov, 'Optimistic Values')"
   ]
  },
  {
   "cell_type": "markdown",
   "metadata": {
    "application/vnd.databricks.v1+cell": {
     "cellMetadata": {},
     "inputWidgets": {},
     "nuid": "776dee2b-a08f-4167-84d6-ee9c9d43bd6d",
     "showTitle": false,
     "title": ""
    }
   },
   "source": [
    "The analyst is pleased with the results. One drawback, however, is that this method does not estimate the true save rates of all goalkeepers. Instead, only the estimate for the top goalkeeper converges to the true rate. \n",
    "\n",
    "The analyst wants to solve this issue before chatting with the coach again. He turns to a new method..."
   ]
  },
  {
   "cell_type": "markdown",
   "metadata": {
    "application/vnd.databricks.v1+cell": {
     "cellMetadata": {},
     "inputWidgets": {},
     "nuid": "d3abea21-83ce-468a-81ae-ba64ef0a5631",
     "showTitle": false,
     "title": ""
    }
   },
   "source": [
    "# Approach 4: UCB1"
   ]
  }
 ],
 "metadata": {
  "application/vnd.databricks.v1+notebook": {
   "dashboards": [],
   "environmentMetadata": {
    "base_environment": "",
    "client": "1"
   },
   "language": "python",
   "notebookMetadata": {
    "pythonIndentUnit": 4
   },
   "notebookName": "bandit",
   "widgets": {}
  }
 },
 "nbformat": 4,
 "nbformat_minor": 0
}
